{
 "cells": [
  {
   "cell_type": "markdown",
   "metadata": {},
   "source": [
    "# Find top deciduous species"
   ]
  },
  {
   "cell_type": "markdown",
   "metadata": {},
   "source": [
    "While developing the AgroSuccess simulation model I found the need to quantify the number of years different species' seeds remain viable in the [soil seed bank](https://en.wikipedia.org/wiki/Soil_seed_bank). "
   ]
  },
  {
   "cell_type": "markdown",
   "metadata": {},
   "source": [
    "Use the Soil seed bank longevity (`SoilSeedBank`) field from the BROT database\n",
    "\n",
    "G. Pausas, Juli; Tavşanoğlu, Çağatay (2018): BROT 2.0: A functional trait database for Mediterranean Basin plants. figshare. Collection. https://doi.org/10.6084/m9.figshare.c.3843841.v1"
   ]
  },
  {
   "cell_type": "code",
   "execution_count": null,
   "metadata": {},
   "outputs": [],
   "source": [
    "import functools\n",
    "import re\n",
    "from typing import Dict\n",
    "\n",
    "import pytest\n",
    "\n",
    "import pandas as pd\n",
    "\n",
    "from taxa import POLLEN_LCT_MAPS, compose_regexs"
   ]
  },
  {
   "cell_type": "code",
   "execution_count": null,
   "metadata": {},
   "outputs": [],
   "source": [
    "BROT_URLS = {\n",
    "    k: 'https://ndownloader.figshare.com/files/' + v\n",
    "    for k, v in {'data': '11194784', 'synonymous': '11194793',\n",
    "                 'sources': '11194787', 'taxa': '11194790'}.items()\n",
    "}"
   ]
  },
  {
   "cell_type": "code",
   "execution_count": null,
   "metadata": {},
   "outputs": [],
   "source": [
    "read_brot_data_csv = functools.partial(pd.read_csv, encoding='latin1')\n",
    "read_brot_sources_csv = functools.partial(pd.read_csv, encoding='utf-8')"
   ]
  },
  {
   "cell_type": "code",
   "execution_count": null,
   "metadata": {},
   "outputs": [],
   "source": [
    "seed_bank_df = (\n",
    "    read_brot_data_csv(BROT_URLS['data'])\n",
    "    .pipe(lambda df: df[df['Trait'] == 'SoilSeedBank'])\n",
    "    .drop(columns='Trait')\n",
    ")\n",
    "seed_bank_df.head()"
   ]
  },
  {
   "cell_type": "code",
   "execution_count": null,
   "metadata": {},
   "outputs": [],
   "source": [
    "taxa_regex_dict = {\n",
    "    k: compose_regexs(x.regex for x in v)\n",
    "    for k, v in POLLEN_LCT_MAPS.items()\n",
    "    if k in ['deciduous_forest', 'pine_forest', 'oak_forest']\n",
    "}"
   ]
  },
  {
   "cell_type": "code",
   "execution_count": null,
   "metadata": {},
   "outputs": [],
   "source": [
    "class MultipleMatchError(Exception):\n",
    "    pass"
   ]
  },
  {
   "cell_type": "code",
   "execution_count": null,
   "metadata": {},
   "outputs": [],
   "source": [
    "def string_to_group(string: str, regex_dict: Dict[str, str]) -> str:\n",
    "    \"\"\"Match input string to a group.\n",
    "    \n",
    "    Throws a `MultipleMatchError` if `string` matches more than one group.\n",
    "    \n",
    "    Parameters\n",
    "    ----------\n",
    "    string: Pattern to assign to a group\n",
    "    regex_dict: k: v pairs where k is the name of a group and v is a regex\n",
    "        pattern which matches any of the strings which belong to the group\n",
    "    \"\"\"\n",
    "    matches = [group for group, regex in regex_dict.items()\n",
    "               if re.match(regex, string, re.IGNORECASE)]\n",
    "    if len(matches) > 1:\n",
    "        raise MultipleMatchError(f\"'{string}' matched multiple patterns\")\n",
    "    if len(matches) == 1:\n",
    "        return matches[0]\n",
    "    return None"
   ]
  },
  {
   "cell_type": "code",
   "execution_count": null,
   "metadata": {},
   "outputs": [],
   "source": [
    "def test_string_to_group():\n",
    "    assert string_to_group('foo',\n",
    "                           {'group1': '.*foo', 'group2': '.*bar'}) == 'group1'\n",
    "    assert string_to_group('bar',\n",
    "                           {'group1': '.*foo', 'group2': '.*bar'}) == 'group2'\n",
    "    with pytest.raises(MultipleMatchError) as e:\n",
    "        string_to_group('foo bar',\n",
    "                        {'group1': '.*foo', 'group2': '.*bar'}) == 'group2'\n",
    "\n",
    "test_string_to_group()"
   ]
  },
  {
   "cell_type": "code",
   "execution_count": null,
   "metadata": {},
   "outputs": [],
   "source": [
    "taxa_to_lct = functools.partial(string_to_group, regex_dict=taxa_regex_dict)"
   ]
  },
  {
   "cell_type": "code",
   "execution_count": null,
   "metadata": {},
   "outputs": [],
   "source": [
    "seed_bank_df = (\n",
    "    seed_bank_df.assign(lct=lambda df: df['Taxon'].apply(taxa_to_lct))\n",
    "    .pipe(lambda df: df[~df['lct'].isna()])\n",
    ")\n",
    "seed_bank_df"
   ]
  },
  {
   "cell_type": "markdown",
   "metadata": {},
   "source": [
    "All the deciduous species in BROT (Alder, Hazel and Beech) are all 'transient', meaning:\n",
    "\n",
    "```\n",
    "no soil seed bank; seeds germinate in the first favorable season after dispersal. Normally seed bank longevity o =1 yr (no persistent seed bank).\n",
    "```"
   ]
  },
  {
   "cell_type": "markdown",
   "metadata": {},
   "source": [
    "## Identify papers to read"
   ]
  },
  {
   "cell_type": "code",
   "execution_count": null,
   "metadata": {},
   "outputs": [],
   "source": [
    "seed_bank_df"
   ]
  },
  {
   "cell_type": "markdown",
   "metadata": {},
   "source": [
    "Number of species discussed in papera by land cover type and source."
   ]
  },
  {
   "cell_type": "code",
   "execution_count": null,
   "metadata": {},
   "outputs": [],
   "source": [
    "(\n",
    "    seed_bank_df\n",
    "    .groupby(by=['SourceID', 'lct'])['Data']\n",
    "    .count().unstack()\n",
    "    .fillna(0).astype(int)\n",
    ")"
   ]
  },
  {
   "cell_type": "markdown",
   "metadata": {},
   "source": [
    "Initially I planned to use `CCatalonia2008` as a reference, but it turns our that key just refers to an email address (`Espelta, J. M., Rodrigo, A. (anselm.rodrigo@uab.es)`). I have not had good experiences trying to get information out of UAB in th past, specifically I was not able to obtain Espelta's PhD thesis either from him or from the UAB library, despite the fact that it was the canonical source of a dataset discussed in `Zavala2000`. I'll just choose a different source to provide evidence for oak species' seed longevity."
   ]
  },
  {
   "cell_type": "code",
   "execution_count": null,
   "metadata": {},
   "outputs": [],
   "source": [
    "papers_to_read = {\n",
    "    'pine_forest': [\n",
    "        ('Reyes2002b',\n",
    "         'Discusses Pinus Pinaster, suggests persistent seeds',\n",
    "         None),\n",
    "        ('Vega2008',\n",
    "         'Discusses Pinus Pinaster, suggests transient seeds',\n",
    "         None),\n",
    "    ],\n",
    "    'oak_forest': [\n",
    "        ('CCatalonia2008',\n",
    "         'Discusses 3 oak species including ilex, as well as deciduous',\n",
    "         'No paper listed, only email address'),\n",
    "        ('Trabaud1997',\n",
    "         'Claims to discuss three oak species including Q. Ilex, uses measurement',\n",
    "          None),\n",
    "    ],\n",
    "    'deciduous_forest': [\n",
    "        ('Olano2002',\n",
    "         ('Discusses two different deciduous species, data determined using '\n",
    "          'high accuracy measurement'),\n",
    "         None),\n",
    "    ],\n",
    "}"
   ]
  },
  {
   "cell_type": "code",
   "execution_count": null,
   "metadata": {},
   "outputs": [],
   "source": [
    "paper_df = (\n",
    "    pd.DataFrame(\n",
    "        [(k, paper[0], paper[1])\n",
    "         for k, paper_list in papers_to_read.items()\n",
    "         for paper in paper_list\n",
    "         # Only include papers with no reason not to include\n",
    "         if paper[2] is None], \n",
    "        columns=['lct', 'SourceID', 'Reason']).set_index('SourceID')\n",
    "    .join(\n",
    "        read_brot_sources_csv(BROT_URLS['sources']).set_index('ID'),\n",
    "        how='left'\n",
    "    )\n",
    ")\n",
    "paper_df"
   ]
  },
  {
   "cell_type": "code",
   "execution_count": null,
   "metadata": {},
   "outputs": [],
   "source": [
    "for i, row in paper_df.iterrows():\n",
    "    print(f\"{i}: {row['FullSource']}\\n\")"
   ]
  }
 ],
 "metadata": {
  "kernelspec": {
   "display_name": "Python 3",
   "language": "python",
   "name": "python3"
  },
  "language_info": {
   "codemirror_mode": {
    "name": "ipython",
    "version": 3
   },
   "file_extension": ".py",
   "mimetype": "text/x-python",
   "name": "python",
   "nbconvert_exporter": "python",
   "pygments_lexer": "ipython3",
   "version": "3.7.6"
  }
 },
 "nbformat": 4,
 "nbformat_minor": 4
}
