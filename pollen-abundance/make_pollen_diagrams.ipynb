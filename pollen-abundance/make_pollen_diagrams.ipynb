{
 "cells": [
  {
   "cell_type": "code",
   "execution_count": null,
   "id": "f2b9b796-42df-454d-9404-da2550caa324",
   "metadata": {},
   "outputs": [],
   "source": [
    "from pathlib import Path\n",
    "from typing import NamedTuple, Tuple\n",
    "\n",
    "import psyplot.project as psy\n",
    "import pandas as pd\n",
    "from psy_strat.stratplot import stratplot\n",
    "import matplotlib as mpl\n",
    "import matplotlib.pyplot as plt"
   ]
  },
  {
   "cell_type": "markdown",
   "id": "02f6a73d-0326-4d16-b0c2-9bd46ad8b101",
   "metadata": {},
   "source": [
    "Note: this notebook uses the environment `as_data_minimal`"
   ]
  },
  {
   "cell_type": "code",
   "execution_count": null,
   "id": "835ec0d4-f158-4617-9cf0-a95dcefc6e02",
   "metadata": {},
   "outputs": [],
   "source": [
    "mpl.rcParams['figure.figsize'] = (18, 10)\n",
    "mpl.rcParams['figure.dpi'] = 150"
   ]
  },
  {
   "cell_type": "code",
   "execution_count": null,
   "id": "eaafdc00-6b99-4280-803a-09762df6a8ca",
   "metadata": {},
   "outputs": [],
   "source": [
    "DATA_DIR = Path('../outputs')"
   ]
  },
  {
   "cell_type": "code",
   "execution_count": null,
   "id": "de1a13c3-8f9d-43f9-bafc-94ce7c7120f2",
   "metadata": {},
   "outputs": [],
   "source": [
    "PLOTS_DIR = Path('../outputs/plots')"
   ]
  },
  {
   "cell_type": "code",
   "execution_count": null,
   "id": "5ec172f2-369a-4f36-9a5f-dc70f72b43b0",
   "metadata": {},
   "outputs": [],
   "source": [
    "pollen_df = pd.read_csv(DATA_DIR / 'site_pollen_abundance_ts.csv')\n",
    "group_df = pd.read_csv(DATA_DIR / 'pollen_groups.csv')"
   ]
  },
  {
   "cell_type": "code",
   "execution_count": null,
   "id": "cb963643-1206-4414-ac75-bb5bdb5025dd",
   "metadata": {},
   "outputs": [],
   "source": [
    "pollen_df.head()"
   ]
  },
  {
   "cell_type": "code",
   "execution_count": null,
   "id": "c264e534-e07b-4c71-a366-304bdb4bed00",
   "metadata": {},
   "outputs": [],
   "source": [
    "group_df.head()"
   ]
  },
  {
   "cell_type": "code",
   "execution_count": null,
   "id": "9ed75ced-6b87-45e8-9f67-7d7b3f9d28b7",
   "metadata": {},
   "outputs": [],
   "source": [
    "df = pollen_df.merge(group_df, how='left', on='var_')"
   ]
  },
  {
   "cell_type": "code",
   "execution_count": null,
   "id": "07835856-807a-4230-a9e3-2c3393e81840",
   "metadata": {},
   "outputs": [],
   "source": [
    "df['groupname'].unique()"
   ]
  },
  {
   "cell_type": "markdown",
   "id": "1825eaa5-7ca1-4305-be17-9d7f5369d5b2",
   "metadata": {},
   "source": [
    "Assumptions:\n",
    "- Undifferentiated NPP is NPP-ID: Non-Pollen Palynomorph\n",
    "- Exclude Nonpollen, Cyanobacteria, Microcrustaceans, Invertebrates, Nematoda (roundworms), Macrofossils, Acritarchs, Rhizopods, Indeterminables and unknowns"
   ]
  },
  {
   "cell_type": "code",
   "execution_count": null,
   "id": "62ed16c9-0c4e-491a-8371-a027ce44874d",
   "metadata": {},
   "outputs": [],
   "source": [
    "excluded_types = [\n",
    "    'Nonpollen',\n",
    "    'Cyanobacteria',\n",
    "    'Microcrustaceans',\n",
    "    'Invertebrates',\n",
    "    'Nematoda (roundworms)',\n",
    "    'Macrofossils',\n",
    "    'Acritarchs',\n",
    "    'Rhizopods',\n",
    "    'Indeterminables and unknowns',\n",
    "    'Undifferentiated NPP'\n",
    "]"
   ]
  },
  {
   "cell_type": "code",
   "execution_count": null,
   "id": "a69650c6-9876-430d-9a68-c02865ac4c63",
   "metadata": {},
   "outputs": [],
   "source": [
    "df = (\n",
    "    df[~df['groupname'].isin(excluded_types)]\n",
    "    .loc[:, ['sitename', 'varname', 'groupname', 'agebp', 'count']]\n",
    ")"
   ]
  },
  {
   "cell_type": "code",
   "execution_count": null,
   "id": "36875127-b094-4a93-85f3-ae2faa7ceae7",
   "metadata": {},
   "outputs": [],
   "source": [
    "df[['varname', 'groupname']].drop_duplicates()"
   ]
  },
  {
   "cell_type": "code",
   "execution_count": null,
   "id": "1a6c7a8d-d194-4f4d-8afa-613fc0b66357",
   "metadata": {},
   "outputs": [],
   "source": [
    "def get_grouper(sitename):\n",
    "    def grouper(col):\n",
    "        return (\n",
    "            df[df['sitename'] == sitename][['varname', 'groupname']]\n",
    "            .drop_duplicates().set_index('varname')['groupname']\n",
    "            .loc[col]\n",
    "        )\n",
    "    return grouper"
   ]
  },
  {
   "cell_type": "code",
   "execution_count": null,
   "id": "8eda7948-e003-4b20-bca1-6d7eefdc072f",
   "metadata": {},
   "outputs": [],
   "source": [
    "def grouper(col):\n",
    "    return (\n",
    "        df[['varname', 'groupname']]\n",
    "        .drop_duplicates().set_index('varname')['groupname']\n",
    "        .loc[col]\n",
    "    )"
   ]
  },
  {
   "cell_type": "markdown",
   "id": "9d6e3850-0345-47c5-989e-c5428abbdaa0",
   "metadata": {},
   "source": [
    "Navarres and Charco da Candieira have some duplicated rows with common (sitename, agebp, and varname)."
   ]
  },
  {
   "cell_type": "code",
   "execution_count": null,
   "id": "066447b5-c85b-4c37-8c37-36585d9e3e49",
   "metadata": {},
   "outputs": [],
   "source": [
    "df[df.loc[:, ['sitename', 'agebp', 'varname', 'count']].duplicated(subset=['sitename', 'agebp', 'varname'])]['sitename'].unique()"
   ]
  },
  {
   "cell_type": "markdown",
   "id": "c11970ca-fff8-458f-8400-d2158b496e66",
   "metadata": {},
   "source": [
    "Examining these in more detail"
   ]
  },
  {
   "cell_type": "code",
   "execution_count": null,
   "id": "d8d58ffc-6a70-409b-9c69-564a20fdcad5",
   "metadata": {},
   "outputs": [],
   "source": [
    "(\n",
    "    df[\n",
    "        df.loc[:, ['sitename', 'agebp', 'varname', 'count']]\n",
    "        .duplicated(subset=['sitename', 'agebp', 'varname'], keep=False)\n",
    "    ]\n",
    "    .sort_values(by=['sitename', 'agebp', 'varname'])\n",
    ")"
   ]
  },
  {
   "cell_type": "markdown",
   "id": "0b5e6d20-1ea5-44d9-92f5-90d2b876d964",
   "metadata": {},
   "source": [
    "These duplicated values should either be summed, or one selected over the other. Assume for the time being that they should be summed"
   ]
  },
  {
   "cell_type": "code",
   "execution_count": null,
   "id": "b1d26a6b-36e4-4078-bcbb-dbd1c183f67a",
   "metadata": {},
   "outputs": [],
   "source": [
    "plot_df = df.groupby(['sitename', 'agebp', 'varname'])['count'].sum().unstack()"
   ]
  },
  {
   "cell_type": "code",
   "execution_count": null,
   "id": "f22c9be9-a10f-4ef7-9458-f7a519f0fb18",
   "metadata": {},
   "outputs": [],
   "source": [
    "# group2taxon = pd.DataFrame.from_dict(plot_df.groupby(grouper, axis=1).groups, orient='index').T\n",
    "# group2taxon.fillna('')"
   ]
  },
  {
   "cell_type": "code",
   "execution_count": null,
   "id": "d1816149-8977-4acb-9948-4f17ed8c7aeb",
   "metadata": {},
   "outputs": [],
   "source": [
    "class SitePlotMeta(NamedTuple):\n",
    "    name: str\n",
    "    pollen_width: float\n",
    "    figsize: Tuple[int, int]\n",
    "    min_date: int\n",
    "    max_date: int"
   ]
  },
  {
   "cell_type": "code",
   "execution_count": null,
   "id": "d3f5955b-62fb-40ec-a104-2c09c2f0337e",
   "metadata": {},
   "outputs": [],
   "source": [
    "def generate_pollen_diagram(df: pd.DataFrame, site_meta: SitePlotMeta):\n",
    "    def normalize_site_name(x: str) -> str:\n",
    "        return x.lower().replace(' ', '-').replace('é', 'e')\n",
    "    mpl.rcParams['figure.figsize'] = site_meta.figsize\n",
    "    # mpl.rcParams['figure.dpi'] = 150\n",
    "    # _, ax = plt.subplots(figsize=site_meta.figsize)\n",
    "    sub_df = df.loc[\n",
    "        pd.IndexSlice[site_meta.name, site_meta.min_date:site_meta.max_date], :\n",
    "    ].droplevel(0).dropna(axis=1, how='all')\n",
    "    sp, groupers = stratplot(\n",
    "        sub_df,\n",
    "        get_grouper(site_meta.name),\n",
    "        # ax=ax,\n",
    "        # plot_df.loc[site_meta.name].dropna(axis=1, how='all'), get_grouper(site_meta.name),\n",
    "        thresh=4.0,\n",
    "        widths={'Pollen': site_meta.pollen_width},\n",
    "        percentages=['Pollen'],\n",
    "        subgroups={'Pollen': ['Trees and shrubs', 'Dwarf shrubs', 'Herbs']},\n",
    "        exclude=[\n",
    "            'Helophytes',\n",
    "            'Vascular cryptogams (Pteridophytes)',\n",
    "            'Algae',\n",
    "            'Aquatics',\n",
    "            'Dinoflagellates',\n",
    "            'Bryophytes',\n",
    "            'Pre-Quaternary type',\n",
    "            'Fungi',\n",
    "            'Aquatic Pteridophyta'\n",
    "        ],\n",
    "    )\n",
    "    # ax.set_ylim(site_meta.min_date, site_meta.max_date)\n",
    "    plt.savefig(PLOTS_DIR / f'{normalize_site_name(site_meta.name)}_pollen_diagram.png', bbox_inches='tight', dpi=150)"
   ]
  },
  {
   "cell_type": "code",
   "execution_count": null,
   "id": "dd24d48b-6e5c-4aaf-a18f-013326797e75",
   "metadata": {},
   "outputs": [],
   "source": [
    "sites_metas = [\n",
    "    SitePlotMeta('Algendar', 1.1, (18, 10), 2000, 9000),\n",
    "    SitePlotMeta('Atxuri', 1.1, (18, 10), 0, 6500),\n",
    "    SitePlotMeta('Charco da Candieira', 1.1, (18, 10), -50, 12600),\n",
    "    SitePlotMeta('Monte Areo mire', 1.1, (18, 10), 0, 11000),\n",
    "    SitePlotMeta('Navarrés', 1.55, (19, 10), 2500, 31000),\n",
    "    SitePlotMeta('San Rafael', 1.3, (19, 10), 0, 17500),\n",
    "]"
   ]
  },
  {
   "cell_type": "code",
   "execution_count": null,
   "id": "c39474c9-f3c3-4030-985a-25b6b7f3317a",
   "metadata": {},
   "outputs": [],
   "source": [
    "for sm in sites_metas:\n",
    "    generate_pollen_diagram(plot_df, sm)"
   ]
  },
  {
   "cell_type": "code",
   "execution_count": null,
   "id": "47626359-671a-41ee-a85f-7b70b72dced9",
   "metadata": {},
   "outputs": [],
   "source": [
    "def generate_pollen_diagram_legacy(df: pd.DataFrame, sitename: str):\n",
    "    mpl.rcParams['figure.figsize'] = (18, 10)\n",
    "    mpl.rcParams['figure.dpi'] = 150\n",
    "    sp, groupers = stratplot(\n",
    "        # plot_df.loc[\n",
    "        #     pd.IndexSlice[site_meta.name, site_meta.min_date:site_meta.max_date], :\n",
    "        # ].dropna(axis=1, how='all'), get_grouper(site_meta.name),\n",
    "        df.loc[sitename].dropna(axis=1, how='all'), get_grouper(sitename),\n",
    "        thresh=2.0,\n",
    "        widths={'Pollen': 1.1},\n",
    "        percentages=['Pollen'],\n",
    "        subgroups={'Pollen': ['Trees and shrubs', 'Dwarf shrubs', 'Herbs']},\n",
    "        exclude=[\n",
    "            'Helophytes',\n",
    "            'Vascular cryptogams (Pteridophytes)',\n",
    "            'Algae',\n",
    "            'Aquatics',\n",
    "            'Dinoflagellates',\n",
    "            'Bryophytes',\n",
    "            'Pre-Quaternary type',\n",
    "            'Fungi',\n",
    "            'Aquatic Pteridophyta'\n",
    "        ],\n",
    "    )\n",
    "    plt.savefig(PLOTS_DIR / f'{sitename.lower()}_pollen_diagram.png', bbox_inches='tight')"
   ]
  },
  {
   "cell_type": "code",
   "execution_count": null,
   "id": "5e45cd8a-3f8f-40b3-89b1-e7737104aa6f",
   "metadata": {},
   "outputs": [],
   "source": [
    "for sitename in plot_df.index.get_level_values(0).unique():\n",
    "    generate_pollen_diagram_legacy(plot_df, sitename)"
   ]
  }
 ],
 "metadata": {
  "kernelspec": {
   "display_name": "Python 3 (ipykernel)",
   "language": "python",
   "name": "python3"
  },
  "language_info": {
   "codemirror_mode": {
    "name": "ipython",
    "version": 3
   },
   "file_extension": ".py",
   "mimetype": "text/x-python",
   "name": "python",
   "nbconvert_exporter": "python",
   "pygments_lexer": "ipython3",
   "version": "3.9.16"
  }
 },
 "nbformat": 4,
 "nbformat_minor": 5
}
