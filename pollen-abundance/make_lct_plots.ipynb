{
 "cells": [
  {
   "cell_type": "markdown",
   "metadata": {},
   "source": [
    "# Plots for Land Cover Type data\n",
    "\n",
    "This notebook uses data which are produced by `make_lct_timeseries.ipynb`."
   ]
  },
  {
   "cell_type": "code",
   "execution_count": null,
   "metadata": {},
   "outputs": [],
   "source": [
    "from pathlib import Path\n",
    "import os\n",
    "\n",
    "import numpy as np\n",
    "import pandas as pd\n",
    "\n",
    "import matplotlib.pyplot as plt\n",
    "from matplotlib.patches import Polygon\n",
    "from matplotlib.collections import PatchCollection"
   ]
  },
  {
   "cell_type": "code",
   "execution_count": null,
   "metadata": {},
   "outputs": [],
   "source": [
    "pwd = os.getcwd().split('/')[-1]\n",
    "in_pollen_abundance = pwd == 'pollen-abundance'\n",
    "TMP_DIR = Path('../tmp') if in_pollen_abundance else Path('tmp')\n",
    "OUTPUT_DIR = Path('../outputs') if in_pollen_abundance else Path('outputs')"
   ]
  },
  {
   "cell_type": "markdown",
   "metadata": {
    "heading_collapsed": true
   },
   "source": [
    "### Plot pollen data"
   ]
  },
  {
   "cell_type": "code",
   "execution_count": null,
   "metadata": {},
   "outputs": [],
   "source": [
    "site_meta = (\n",
    "    pd.read_csv(OUTPUT_DIR / 'site_metadata.csv').set_index('sitecode')\n",
    ")"
   ]
  },
  {
   "cell_type": "code",
   "execution_count": null,
   "metadata": {},
   "outputs": [],
   "source": [
    "site_meta"
   ]
  },
  {
   "cell_type": "code",
   "execution_count": null,
   "metadata": {},
   "outputs": [],
   "source": [
    "pol_df = (\n",
    "    pd.concat([\n",
    "        pd.read_csv(OUTPUT_DIR / site / 'lct_pct_ts.csv')\n",
    "        .assign(sitecode=site) \n",
    "        for site in site_meta.index\n",
    "    ])\n",
    "    .set_index(['sitecode', 'agebp'])\n",
    "    .sort_index()\n",
    ")"
   ]
  },
  {
   "cell_type": "code",
   "execution_count": null,
   "metadata": {},
   "outputs": [],
   "source": [
    "def get_base_ts(df: pd.DataFrame):\n",
    "    \"\"\"Nicely formatted DF containing undifferentiated time series\"\"\"\n",
    "    df = df.copy().filter(regex=r'^pct_*')\n",
    "    df.columns = [' '.join(x.split('_')[1:]).title() \n",
    "                 for x in df.filter(regex=r'^pct_*').columns]\n",
    "    return df"
   ]
  },
  {
   "cell_type": "markdown",
   "metadata": {
    "heading_collapsed": true,
    "hidden": true
   },
   "source": [
    "#### For print"
   ]
  },
  {
   "cell_type": "code",
   "execution_count": null,
   "metadata": {
    "hidden": true
   },
   "outputs": [],
   "source": [
    "def plot_print_chronology(sitename, earliest, latest, figlabel=None, save=False):\n",
    "    df = get_base_ts(pol_df).loc[sitename, :]  # extract pollen percents for specified site\n",
    "    df = df[(df.index <= earliest) & (df.index >= latest)] # exclude samples from earlier that specified years before present\n",
    "    \n",
    "    def tweak_pct_ticks(axis, pct_vals):\n",
    "        max_pct = int(round(pct_vals.max()*1.1))\n",
    "        \n",
    "        def get_increments(maximum):\n",
    "            while maximum % 4 != 0:\n",
    "                maximum += 1\n",
    "            return [maximum/4 * i for i in range(5)]\n",
    "        \n",
    "        increments = get_increments(max_pct)\n",
    "        axis.set_xlim(0, increments.pop())\n",
    "        axis.xaxis.set_ticks(increments)\n",
    "        \n",
    "    def make_under_line_polygon(xx, yy, e, l):\n",
    "        line_vertices = np.column_stack((xx, yy))\n",
    "        leftmost_corners = np.array([[0, e], [0,l]])\n",
    "        vertices = np.concatenate((line_vertices, leftmost_corners))\n",
    "        return Polygon(vertices, True)       \n",
    "    \n",
    "    pollen_line_colour = '#145D85'\n",
    "    \n",
    "    f, axes = plt.subplots(1, len(df.columns), sharey=True)\n",
    "    for i, group in enumerate(df.columns):\n",
    "        xx = df[group].values\n",
    "        yy = df.index.values\n",
    "        axes[i].plot(xx,yy, color=pollen_line_colour)\n",
    "        axes[i].set_title(group.title())\n",
    "        axes[i].set_ylim([latest, earliest])\n",
    "        tweak_pct_ticks(axes[i], xx)\n",
    "        \n",
    "        poly = make_under_line_polygon(xx, yy, earliest, latest)\n",
    "        p = PatchCollection([poly], alpha=0.4)\n",
    "        p.set_color(pollen_line_colour)\n",
    "        axes[i].add_collection(p)\n",
    "        \n",
    "        if i == 0:\n",
    "            axes[i].set_ylabel('yrs BP', fontsize=13)\n",
    "            if figlabel:\n",
    "                xticks = axes[i].get_xticks()\n",
    "                yticks = axes[i].get_yticks()\n",
    "                xtick_scale = xticks[1]-xticks[0]\n",
    "                ytick_scale = yticks[1]-yticks[0]\n",
    "\n",
    "                axes[i].text(-1.15*xtick_scale, latest-0.5*ytick_scale, \n",
    "                             figlabel,\n",
    "                             fontdict = {'weight': 'bold',\n",
    "                                         'size': 16}\n",
    "                            )\n",
    "    \n",
    "    plt.gca().invert_yaxis()\n",
    "    plt.subplots_adjust(hspace=0, wspace=0)\n",
    "    f.text(0.51, 0.02, '% contribution to total pollen sample', ha='center', fontsize=13)\n",
    "    #plt.suptitle(sitename, y=1.05, fontsize=12)\n",
    "    \n",
    "    if save:\n",
    "        d = os.path.join('plots')\n",
    "        if not os.path.exists(d):\n",
    "            os.makedirs(d)\n",
    "\n",
    "        plt.savefig(os.path.join('plots',\n",
    "                                 (sitename.replace(' ', '_')+'_'\n",
    "                                 +str(earliest)+'-'+str(latest)+'.pdf')))"
   ]
  },
  {
   "cell_type": "code",
   "execution_count": null,
   "metadata": {
    "hidden": true
   },
   "outputs": [],
   "source": [
    "for s in pol_df.index.get_level_values(0).unique():\n",
    "    print(s)\n",
    "    plot_print_chronology(s, 15000, 0)"
   ]
  },
  {
   "cell_type": "markdown",
   "metadata": {
    "hidden": true
   },
   "source": [
    "Of these, to my eye, San Rafael looks the most interesting (like there's a lot going on). \n",
    "\n",
    "On the other hand, what's going on in Navarres at 6000 years ago with sprouters?"
   ]
  },
  {
   "cell_type": "markdown",
   "metadata": {
    "heading_collapsed": true,
    "hidden": true
   },
   "source": [
    "#### Interactive"
   ]
  },
  {
   "cell_type": "code",
   "execution_count": null,
   "metadata": {
    "hidden": true
   },
   "outputs": [],
   "source": [
    "from bokeh.io import push_notebook, show, output_notebook\n",
    "from bokeh.layouts import gridplot, widgetbox, column  # container for bokeh figure objects\n",
    "from bokeh.models.widgets import Dropdown\n",
    "from bokeh.models import ColumnDataSource\n",
    "from bokeh.plotting import figure\n",
    "output_notebook()"
   ]
  },
  {
   "cell_type": "code",
   "execution_count": null,
   "metadata": {
    "hidden": true
   },
   "outputs": [],
   "source": [
    "def plot_interactive_chronology(sitename):\n",
    "    df = get_base_ts(pol_df).loc[sitename, :] #  extract pollen percents for specified site\n",
    "    \n",
    "    # create a column data source for the plots to share\n",
    "    source = ColumnDataSource(data=df.reset_index().to_dict('list'))\n",
    "    \n",
    "    # container for bokeh figure objects\n",
    "    plots = [] \n",
    "    time_range=None\n",
    "    \n",
    "    TOOLS = \"ypan,ywheel_zoom\"\n",
    "    \n",
    "    def get_width(base, factor, plot_num):\n",
    "        # function to increase width of first plot, since this ends up narrowed\n",
    "        # due to being the only one with yaxis labels.\n",
    "        if plot_num > 0:\n",
    "            return base\n",
    "        else:\n",
    "            return int(round(base*(1+factor)))\n",
    "    \n",
    "    for i, group in enumerate(df.columns):\n",
    "        p = figure(tools=TOOLS, plot_width=get_width(150, .25, i), \n",
    "                   plot_height=500, y_range=time_range,\n",
    "                   title=group.title())\n",
    "        p.line(group, 'agebp', source=source)\n",
    "        if i == 0:\n",
    "            p.y_range.flipped = True\n",
    "            time_range = p.y_range\n",
    "        else:\n",
    "            p.yaxis.major_label_text_font_size = '0pt'\n",
    "                    \n",
    "        plots.append(p)\n",
    "   \n",
    "    p = gridplot([plots])\n",
    "    t = show(p, notebook_handle=True)\n",
    "                \n",
    "    return t"
   ]
  },
  {
   "cell_type": "code",
   "execution_count": null,
   "metadata": {
    "hidden": true
   },
   "outputs": [],
   "source": [
    "def print_daterange(sitename):\n",
    "    df = get_base_ts(pol_df).loc[sitename, :]\n",
    "    latest = df.index.min()\n",
    "    earliest = df.index.max()\n",
    "    print('earliest date: {0} yr BP'.format(earliest))\n",
    "    print('latest date: {0} yr BP'.format(latest))"
   ]
  },
  {
   "cell_type": "code",
   "execution_count": null,
   "metadata": {
    "hidden": true
   },
   "outputs": [],
   "source": [
    "for s in pol_df.index.get_level_values(0).unique():\n",
    "    print(s)\n",
    "    print_daterange(s)\n",
    "    print('\\n')"
   ]
  },
  {
   "cell_type": "code",
   "execution_count": null,
   "metadata": {
    "hidden": true
   },
   "outputs": [],
   "source": [
    "plot_interactive_chronology('algendar')"
   ]
  },
  {
   "cell_type": "code",
   "execution_count": null,
   "metadata": {
    "hidden": true
   },
   "outputs": [],
   "source": [
    "pol_df.head()"
   ]
  },
  {
   "cell_type": "markdown",
   "metadata": {
    "hidden": true
   },
   "source": [
    "#### Points of particular interest in time series (discussed in upgrade report)"
   ]
  },
  {
   "cell_type": "markdown",
   "metadata": {
    "heading_collapsed": true,
    "hidden": true
   },
   "source": [
    "##### San Rafael 4000 - 8000 yrs BP\n",
    "Big variation in grasses shrubs and sprouters around the time it is thought agriculture reached Iberia (6500 yrs BP)."
   ]
  },
  {
   "cell_type": "code",
   "execution_count": null,
   "metadata": {
    "hidden": true
   },
   "outputs": [],
   "source": [
    "plot_print_chronology('san_rafael', 8500, 1000, figlabel='A', save=True)"
   ]
  },
  {
   "cell_type": "markdown",
   "metadata": {
    "hidden": true
   },
   "source": [
    "##### Navarres 6000 - 7000 yrs BP\n",
    "~ 200 year oscillation in percentages of grass and seeders 6400 - 6800 yrs BP, followed by sudden and sustained increase in sprouters after 6400 yrs BP"
   ]
  },
  {
   "cell_type": "code",
   "execution_count": null,
   "metadata": {
    "hidden": true
   },
   "outputs": [],
   "source": [
    "plot_print_chronology('navarres', 10500, 3000, figlabel='B', save=True)"
   ]
  }
 ],
 "metadata": {
  "anaconda-cloud": {},
  "kernelspec": {
   "display_name": "Python 3",
   "language": "python",
   "name": "python3"
  },
  "language_info": {
   "codemirror_mode": {
    "name": "ipython",
    "version": 3
   },
   "file_extension": ".py",
   "mimetype": "text/x-python",
   "name": "python",
   "nbconvert_exporter": "python",
   "pygments_lexer": "ipython3",
   "version": "3.7.6"
  }
 },
 "nbformat": 4,
 "nbformat_minor": 4
}
