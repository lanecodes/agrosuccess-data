{
 "cells": [
  {
   "cell_type": "markdown",
   "metadata": {
    "ein.tags": "worksheet-0",
    "slideshow": {
     "slide_type": "-"
    }
   },
   "source": [
    "# Downloading and processing elevation data for a study site\n",
    "\n",
    "Many problems which we might attempt to tackle with GIS (Grographic Information Systems) require elevation data for the area of study. This might be to inform a terrain analysis to work out which parts of a valley are visible from the top of a hill to decide the best place to put an antenna, or to model how water will flow over the landscape when planning for flooding scenarios or attempting to limit soil erosion. It could also feed into an ecological model which considers how different groups of plants are adapted to life at different elevations.\n",
    "\n",
    "The datasets which contain these data are called Digital Elevation Models (DEMs). These take the form of geographical raster data -- georeferenced grids of numbers specifying the elevation at different point on the earth's surface.\n",
    "\n",
    "- [SRTM](http://doi.org/10.5067/MEaSUREs/SRTM/SRTMGL1.003) (Shuttle Radar Topography Mission) was performed by NASA in 2000\n",
    "- Obtained using radar signals to build up a 3D image of most of the Earth's land surface\n",
    "- Now available at a resolution of approximately 30 meters, that is, each number in the returned dataset represents the elevation a 30 m${}^2$ square of the Earth's surface, in a manner analogous to how a pixel in a digital photograph might represent an area of 2 cm${}^2$ on the surface of the subject's face.\n",
    "\n",
    "In this notebook we'll first define some functions to help us deal with the geometry of the problem of selecting the data around a point of interest.\n",
    "\n",
    "use the Python module [`elevation`](https://pypi.org/project/elevation/#description) to do most of the hard work in selecting which data tile(s) to download, stitching them together for us if needs be."
   ]
  },
  {
   "cell_type": "code",
   "execution_count": null,
   "metadata": {
    "autoscroll": false,
    "collapsed": false,
    "ein.hycell": false,
    "ein.tags": "worksheet-0",
    "jupyter": {
     "outputs_hidden": false
    },
    "slideshow": {
     "slide_type": "-"
    }
   },
   "outputs": [],
   "source": [
    "from pathlib import Path\n",
    "import logging\n",
    "import os\n",
    "import subprocess\n",
    "from typing import Iterable, List, Union, NamedTuple, Tuple\n",
    "\n",
    "import requests\n",
    "\n",
    "import unidecode\n",
    "\n",
    "import numpy as np\n",
    "import pandas as pd\n",
    "\n",
    "import geopandas as gpd\n",
    "import georasters as gr\n",
    "import elevation\n",
    "import nlmpy\n",
    "from pyproj import Proj, transform\n",
    "\n",
    "import matplotlib\n",
    "import matplotlib.pyplot as plt\n",
    "from mpl_toolkits.axes_grid1 import make_axes_locatable\n",
    "%matplotlib inline"
   ]
  },
  {
   "cell_type": "markdown",
   "metadata": {},
   "source": [
    "## Setting up the geometry of the problem\n",
    "Objective is to obtain a method which will go through each of my study sites and download STRM30 data whose bounding box encompasses a circle, with a specified radius, around each study site. \n",
    "\n",
    "Parameters:\n",
    "`tgt_crs`: the CRS in which the bounding circle will be contained \n",
    "`r`: the radius of the circle in the units of the target crs"
   ]
  },
  {
   "cell_type": "markdown",
   "metadata": {},
   "source": [
    "### Size of DEM to download\n",
    "\n",
    "- Total area of circle surrounding pollen extraction point (for use with LRA) is 30 km${}^2$. \n",
    "- Decided in meeting with James on 15/5/18 that I should simulate an area of perhaps 150km${}^2$ to provide a buffer and assist with accounting for boundary conditions. Fires and seed sources will come from outside\n",
    "- State that one of my big assumptions is that the area whose vegetation proportions are known from the LRA is representative of the larger area around it. "
   ]
  },
  {
   "cell_type": "markdown",
   "metadata": {},
   "source": [
    "<img src=\"img/study-site-loc-schematic.png\" width=350>\n",
    "\n",
    "**Study site location schematic**\n",
    "\n",
    "Geometric construction of the problem of finding the bounding box around study site locations needed to provide the required raster layers for my simulations. Point $P$ is the location from which the sediment core used to derive pollen time series for the site was extracted according to the EPD. $a$ is the radius of the circle from which it is assumed pollen has contributed to the sediment core -- the *experimental zone*. $\\beta$ is a buffer parameter which controls the area around the experimental zone which will also be included in the simulation to help account for edge effects. Points $A$ and $B$ are, respectively, the points of minimum and maximum latitude and longitude defining the bounding box around the study site."
   ]
  },
  {
   "cell_type": "code",
   "execution_count": null,
   "metadata": {
    "collapsed": false,
    "jupyter": {
     "outputs_hidden": false
    }
   },
   "outputs": [],
   "source": [
    "def experimental_zone_radius(area):\n",
    "    \"\"\"Given a required area, return the radius of the experimental zone.\n",
    "    \n",
    "    Args:\n",
    "        area (int, float): The experimental zone's area.\n",
    "        \n",
    "    Returns:\n",
    "        float: The experimental zone's radius.\n",
    "        \"\"\"\n",
    "    return np.sqrt(area/np.pi)"
   ]
  },
  {
   "cell_type": "code",
   "execution_count": null,
   "metadata": {},
   "outputs": [],
   "source": [
    "def study_site_bbox(p_coords, a, beta=1.0):\n",
    "    \"\"\"Get the coordinates specifying the bounding box around a study site.\n",
    "    \n",
    "    Args:\n",
    "        p_coords (tuple, list): (x, y) coordinates of the point which the \n",
    "            bounding box should surround.\n",
    "        a (float): Radius of the experimental zone around the study site.\n",
    "        beta (Optional[float]): Paramater controlling the size of the buffer\n",
    "            around the experimental zone. Defaults to 1.0, meaning the buffer\n",
    "            will be the same as the radius, a.\n",
    "\n",
    "    Returns:\n",
    "        list: The bounding box coordinates in the form \n",
    "            [minx, miny, maxx, maxy]\n",
    "    \"\"\"\n",
    "    if len(p_coords) != 2:\n",
    "        raise ValueError('Bounding box must surround a point specified in '\\\n",
    "                         'exactly 2-dimensions')\n",
    "    \n",
    "    try:\n",
    "        point_x = p_coords[0]\n",
    "        point_y = p_coords[1]\n",
    "    except Exception as e:\n",
    "        print('Could not extract point coordinates')\n",
    "        \n",
    "    delta = a*(1 + beta)\n",
    "    minx = point_x - delta\n",
    "    miny = point_y - delta\n",
    "    maxx = point_x + delta\n",
    "    maxy = point_y + delta\n",
    "    \n",
    "    return [minx, miny, maxx, maxy]    "
   ]
  },
  {
   "cell_type": "markdown",
   "metadata": {},
   "source": [
    "## Handling Coordinate Reference Systems\n",
    "\n",
    "- SRTM data is in WGS84 geographical coordinates (latitude and longitude, possibly familiar from using Google maps). Units are angles\n",
    "- Usually when working with a specific study site, we'll want to work in a local coordinate reference system whose units are a measure of distance, such as meters.\n",
    "- In the UK, we'd use the [British National Grid](https://en.wikipedia.org/wiki/Ordnance_Survey_National_Grid) reference system\n",
    "\n",
    "- First define functions which, given a tuple specifying a coordinate, can convert to or from WGS84\n"
   ]
  },
  {
   "cell_type": "code",
   "execution_count": null,
   "metadata": {},
   "outputs": [],
   "source": [
    "def from_wgs84(coord, tgt_epsg_no):\n",
    "    \"\"\"Convert coordinates from WGS84 to specified target crs.\n",
    "    \n",
    "    Args:\n",
    "        coord (tuple, list): (x, y) coordinate pair in WGS84.\n",
    "        tgt_epsg_no (int): EPSG numner for target crs\n",
    "        \n",
    "    Returns:\n",
    "        tuple: (x, y) coordinate pair in target crs      \n",
    "    \"\"\"\n",
    "    src = Proj('epsg:4326')\n",
    "    tgt = Proj('epsg:' + str(tgt_epsg_no))\n",
    "    \n",
    "    return transform(src, tgt, coord[0], coord[1], always_xy=True)"
   ]
  },
  {
   "cell_type": "code",
   "execution_count": null,
   "metadata": {
    "collapsed": false,
    "jupyter": {
     "outputs_hidden": false
    }
   },
   "outputs": [],
   "source": [
    "def to_wgs84(coord, src_epsg_no):\n",
    "    \"\"\"Convert coordinates from specified source crs to WGS84.\n",
    "    \n",
    "    Args:\n",
    "        coord (tuple, list): (x, y) coordinate pair in source crs.\n",
    "        src_epsg_no (int): EPSG numner for source crs\n",
    "        \n",
    "    Returns:\n",
    "        tuple: (x, y) coordinate pair in WGS84.    \n",
    "    \"\"\"\n",
    "    src = Proj('epsg:' + str(src_epsg_no))\n",
    "    tgt = Proj('epsg:4326')\n",
    "    return transform(src, tgt, coord[0], coord[1], always_xy=True) "
   ]
  },
  {
   "cell_type": "markdown",
   "metadata": {},
   "source": [
    "- Now define a function which will use the `to_wgs84` function defined above to convert all the corners of a bounding box in a different coordinate reference system to WGS84"
   ]
  },
  {
   "cell_type": "code",
   "execution_count": null,
   "metadata": {
    "collapsed": false,
    "jupyter": {
     "outputs_hidden": false
    }
   },
   "outputs": [],
   "source": [
    "def bbox_to_wgs84(bbox_coords, src_epsg_no):\n",
    "    \"\"\"Convert coordinates specifying bounding box to WGS84 coords.\n",
    "    \n",
    "    Args:\n",
    "        bbox_coords (list, tuple): the coordinates specifying the bounding box\n",
    "            in the source crs, in the form [minx, miny, maxx, maxy]\n",
    "        src_epsg_no (int): EPSG numner for source crs\n",
    "    \n",
    "    Returns:\n",
    "        list: coordinates of bounding box in WGS84, in the form\n",
    "            [minx, miny, maxx, maxy]            \n",
    "    \"\"\"\n",
    "    if len(bbox_coords) != 4:\n",
    "        raise ValueError('Bounding box must be specified by exactly 4 '\\\n",
    "                         'coords in the form [minx, miny, maxx, maxy]')\n",
    "    min_vertex = (bbox_coords[0], bbox_coords[1]) \n",
    "    max_vertex = (bbox_coords[2], bbox_coords[3]) \n",
    "    \n",
    "    min_vertex_wgs84 = to_wgs84(min_vertex, src_epsg_no)\n",
    "    max_vertex_wgs84 = to_wgs84(max_vertex, src_epsg_no)\n",
    "    \n",
    "    return [min_vertex_wgs84[0], min_vertex_wgs84[1],\n",
    "            max_vertex_wgs84[0], max_vertex_wgs84[1]]   "
   ]
  },
  {
   "cell_type": "markdown",
   "metadata": {},
   "source": [
    "## Download data in WGS84"
   ]
  },
  {
   "cell_type": "code",
   "execution_count": null,
   "metadata": {},
   "outputs": [],
   "source": [
    "def get_wgs84_elev_data(fname, native_crs_epsg_no, p_coords, a, beta=1.0):\n",
    "    \"\"\"Retrieve STRM30 data for study site.   \n",
    "    \n",
    "    1. Convert WGS84 coordinates for specified point to target native crs.\n",
    "    2. Work out coords of bounding box in native crs. Include extra buffer so \n",
    "       that returned data, when converted to target crs from wgs84, can be \n",
    "       trimmed to have straight edges.\n",
    "    3. Convert buffered bounding box coords to WGS84.\n",
    "    4. Get DEM data using `elevation`    \n",
    "    \n",
    "    Args:\n",
    "        fname (str): Filename for retrieved tif file.\n",
    "        native_crs_epsg_no (int): The EPSG number for the CRS in which buffer\n",
    "            distances (e.g. a, see below) will be measured.\n",
    "        p_coords (tuple, list): (x, y) coordinates of the point which the \n",
    "            bounding box should surround, in WGS84 coordinates.\n",
    "        a (float): Radius of the experimental zone around the study site in \n",
    "            native spatial units (e.g. meters).\n",
    "        beta (Optional[float]): Paramater controlling the size of the buffer\n",
    "            around the experimental zone. Defaults to 1.0, meaning the buffer\n",
    "            will be the same as the radius, a.        \n",
    "\n",
    "    Returns: None\n",
    "    \"\"\"\n",
    "    # convert WGS84 lat/lon coordinates to native x, y coordinates\n",
    "    native_coords = from_wgs84(p_coords, native_crs_epsg_no)\n",
    "    native_bbox = study_site_bbox(native_coords, a, beta=beta)\n",
    "    wgs84_bbox = bbox_to_wgs84(native_bbox, native_crs_epsg_no)\n",
    "    \n",
    "    # retrienve and clip the SRTM1 30m DEM data for wgs84 bounding box\n",
    "    # NOTE: elevation.clip fails if output name does not end in .tif\n",
    "    # as of version 1.0.6. Also it's necessary to give the full file\n",
    "    # path to output. Otherwise file will end up in elevation's cache\n",
    "    # silently.\n",
    "    base_name = fname.split('/')[0]\n",
    "    tif_name = os.getcwd() + f'/{base_name}_tmp.tif'\n",
    "    elevation.clip(bounds=wgs84_bbox, output=tif_name)\n",
    "    os.rename(tif_name, fname)\n",
    "    \n",
    "    # clean up stale temporary files and fix the cache in the event of a \n",
    "    # server error\n",
    "    elevation.clean()"
   ]
  },
  {
   "cell_type": "markdown",
   "metadata": {},
   "source": [
    "## Convert retrieved data to target crs\n",
    "Now use gdal to convert retrieved tif to target crs, and trim to bounding box which will be used for simulations."
   ]
  },
  {
   "cell_type": "code",
   "execution_count": null,
   "metadata": {},
   "outputs": [],
   "source": [
    "def warp_elev_data(in_fname, out_fname, native_crs_epsg_no, p_coords, \n",
    "                   a, beta=1.0):\n",
    "    \"\"\"Reproject and trim WGS84 data for study site.\n",
    "    \n",
    "    For a local .tif file containing data for a study site located at \n",
    "    p_coords (where p_coords is in WGS84 coordinates), reproject that data\n",
    "    into the crs specified by native_crs_epsg_no. Then trim it to the bounding\n",
    "    box specified by a and beta (see dicstring for `study_site_bbox`).\n",
    "    \n",
    "    Args:\n",
    "        in_fname (str): Filename for retrieved tif file.\n",
    "        out_fname (str): Filename for converted tif file.\n",
    "        native_crs_epsg_no (int): The EPSG number for the CRS in which buffer\n",
    "            distances (e.g. a, see below) will be measured, and which the data \n",
    "            will be transformed to.\n",
    "        p_coords (tuple, list): (x, y) coordinates of the point which the \n",
    "            bounding box should surround, in WGS84 coordinates.\n",
    "        a (float): Radius of the experimental zone around the study site in \n",
    "            native spatial units (e.g. meters).\n",
    "        beta (Optional[float]): Paramater controlling the size of the buffer\n",
    "            around the experimental zone. Defaults to 1.0, meaning the buffer\n",
    "            will be the same as the radius, a.        \n",
    "\n",
    "    Returns: None\n",
    "    \"\"\"\n",
    "    # convert WGS84 lat/lon coordinates to native x, y coordinates\n",
    "    native_coords = from_wgs84(p_coords, native_crs_epsg_no)\n",
    "    native_bbox = study_site_bbox(native_coords, a, beta=beta)\n",
    "    \n",
    "    # specify parameters to be passed to gdalwarp in an external process:\n",
    "    param = ['gdalwarp', in_fname, out_fname, '-overwrite',\n",
    "             '-s_srs', 'EPSG:4326', \n",
    "             '-t_srs', 'EPSG:' + str(native_crs_epsg_no),\n",
    "             '-te', str(native_bbox[0]), str(native_bbox[1]), \n",
    "             str(native_bbox[2]), str(native_bbox[3])]\n",
    "    \n",
    "    subprocess.check_call(' '.join(param), shell=True)"
   ]
  },
  {
   "cell_type": "markdown",
   "metadata": {},
   "source": [
    "## Automate process of downloading and transforming CRS\n",
    "This is the end goal of our development so far: a single function which takes the lat/lon coordinates of our study site, creates a bounding box around it accounting for its experimental radius and a buffer zone, and downloads, trims and converts the data to our target coordinate reference system"
   ]
  },
  {
   "cell_type": "code",
   "execution_count": null,
   "metadata": {},
   "outputs": [],
   "source": [
    "def get_elev_data(fname, tgt_crs_epsg_no, p_coords, a, beta=1.0):\n",
    "    \"\"\"Retrieve and process STRM30 data.\n",
    "    \n",
    "    Data is centered on the point p_coords, specified in WGS84 coordinates,\n",
    "    but returned data is in the crs specified by tgt_crs_epsg_no.\n",
    "    \n",
    "    Args:\n",
    "        fname (str): Filename for resulting tif file.\n",
    "        tgt_crs_epsg_no (int): The EPSG number for the CRS in which the data\n",
    "            will be returned.\n",
    "        p_coords (tuple, list): (x, y) coordinates of the point which the \n",
    "            bounding box should surround, in WGS84 coordinates.\n",
    "        a (float): Radius of the experimental zone around the study site in \n",
    "            native spatial units (e.g. meters).\n",
    "        beta (Optional[float]): Paramater controlling the size of the buffer\n",
    "            around the experimental zone. Defaults to 1.0, meaning the buffer\n",
    "            will be the same as the radius, a.        \n",
    "\n",
    "    Returns: None\n",
    "    \"\"\"\n",
    "    fname = os.path.join(os.getcwd(), fname)\n",
    "    tmp_fname = fname + '.tmp'\n",
    "    # add 50% onto buffer to insure against missing data when converting to \n",
    "    # target crs\n",
    "    get_wgs84_elev_data(tmp_fname, tgt_crs_epsg_no, p_coords, a, beta=beta*1.5)\n",
    "    warp_elev_data(tmp_fname, fname, tgt_crs_epsg_no, p_coords, a, beta=beta)\n",
    "    os.remove(tmp_fname)\n",
    "    print('Finished processing ' + fname)"
   ]
  },
  {
   "cell_type": "markdown",
   "metadata": {},
   "source": [
    "## Load get data for all study sites"
   ]
  },
  {
   "cell_type": "code",
   "execution_count": null,
   "metadata": {},
   "outputs": [],
   "source": [
    "pwd = os.getcwd().split('/')[-1]\n",
    "OUTPUT_DIR = Path('../outputs') if pwd == 'dem-derived' else Path('outputs')"
   ]
  },
  {
   "cell_type": "code",
   "execution_count": null,
   "metadata": {
    "collapsed": false,
    "jupyter": {
     "outputs_hidden": false
    }
   },
   "outputs": [],
   "source": [
    "sites = (\n",
    "    pd.read_csv(OUTPUT_DIR / 'site_location_info.csv')\n",
    "    .assign(sitecode=lambda df: (\n",
    "        df['sitename']\n",
    "        .apply(unidecode.unidecode)\n",
    "        .str.replace(' ', '_')\n",
    "        .str.lower()\n",
    "    ))\n",
    "    .set_index('sitecode')\n",
    ")\n",
    "\n",
    "sites"
   ]
  },
  {
   "cell_type": "code",
   "execution_count": null,
   "metadata": {
    "collapsed": false,
    "jupyter": {
     "outputs_hidden": false
    }
   },
   "outputs": [],
   "source": [
    "exp_radius = experimental_zone_radius(area=30000000) # 30 km^2\n",
    "print('Downloading data for study sites with experimental zone radius: '\n",
    "      + str(exp_radius)+ ' m')\n",
    "\n",
    "for site_code, row in sites.iterrows():\n",
    "    site_dir = OUTPUT_DIR.resolve() / site_code\n",
    "    site_dir.mkdir(exist_ok=True)\n",
    "    get_elev_data(\n",
    "        site_dir / 'dem.tif',\n",
    "        2062,\n",
    "        (row['londd'], row['latdd']), \n",
    "        exp_radius,\n",
    "    )\n",
    "\n",
    "print('Done.')"
   ]
  },
  {
   "cell_type": "markdown",
   "metadata": {
    "tags": []
   },
   "source": [
    "### Make plot of all study sites' DEMs"
   ]
  },
  {
   "cell_type": "code",
   "execution_count": null,
   "metadata": {},
   "outputs": [],
   "source": [
    "class DEMData(NamedTuple):\n",
    "    sitename: str\n",
    "    dem: gr.georasters.GeoRaster\n",
    "    \n",
    "dem_data = [\n",
    "    DEMData(row[1]['sitename'], gr.from_file(str(OUTPUT_DIR / row[0] / 'dem.tif')))\n",
    "    for row in sites.iterrows()\n",
    "]"
   ]
  },
  {
   "cell_type": "code",
   "execution_count": null,
   "metadata": {},
   "outputs": [],
   "source": [
    "min_val, max_val = get_min_max_raster_values(dem_data)\n",
    "fig, axes = plt.subplots(nrows=2, ncols=3, figsize=(12,9))\n",
    "for site_no, site in enumerate(dem_data):\n",
    "    ax = axes[site_no // 3][site_no % 3]\n",
    "    im = ax.matshow(site.dem.raster)\n",
    "    ax.set_title(sites.iloc[site_no]['sitename'], fontsize=16)\n",
    "    ax.set_axis_off()\n",
    "    divider = make_axes_locatable(ax)\n",
    "    cax = divider.append_axes(\"right\", size=\"5%\", pad=0.1)\n",
    "    cbar = fig.colorbar(im, ax=ax, cax=cax)\n",
    "    if (site_no + 1) % 3 == 0:\n",
    "        cbar.ax.set_ylabel('Elevation [m]', rotation=270, fontsize=12)\n",
    "        cbar.ax.get_yaxis().labelpad = 18\n",
    "\n",
    "plt.tight_layout()\n",
    "try:\n",
    "    fig.savefig(\"img/ssite-DEM-overview.pdf\", bbox_inches='tight')\n",
    "except FileNotFoundError:\n",
    "    logging.warning('Could not write plot of DEMs') "
   ]
  }
 ],
 "metadata": {
  "anaconda-cloud": {},
  "kernelspec": {
   "display_name": "Python 3 (ipykernel)",
   "language": "python",
   "name": "python3"
  },
  "language_info": {
   "codemirror_mode": {
    "name": "ipython",
    "version": 3
   },
   "file_extension": ".py",
   "mimetype": "text/x-python",
   "name": "python",
   "nbconvert_exporter": "python",
   "pygments_lexer": "ipython3",
   "version": "3.9.16"
  },
  "name": "navarres_modified_random_clusters.ipynb"
 },
 "nbformat": 4,
 "nbformat_minor": 4
}
