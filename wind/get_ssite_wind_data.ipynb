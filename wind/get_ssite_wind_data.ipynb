{
 "cells": [
  {
   "cell_type": "markdown",
   "metadata": {},
   "source": [
    "# Wind speed data for fire spread model"
   ]
  },
  {
   "cell_type": "markdown",
   "metadata": {},
   "source": [
    "## Motivation for obtaining wind speed and direction data"
   ]
  },
  {
   "cell_type": "markdown",
   "metadata": {},
   "source": [
    "The AgroSucess model requires wind speed and direction data to determine how fires will spread. At the time of writing (December 2019) there are two possible wind spread sub-models I might choose. However both of these sub-models will require wind speed and direction data. See overviews of the sub-models below."
   ]
  },
  {
   "cell_type": "markdown",
   "metadata": {},
   "source": [
    "### Ellipse model\n",
    "This is a type of model after [Anderson et al. 1982][Anderson1982], and [Catchpole et al. 1992][Catchpole1992] where the shape of a fire is modelled as an ellipse and parameters for spread rates are estimated. The major axis of the ellipse is parallel to the wind direction, and the shape of the ellipse is determined by wind speed.\n",
    "\n",
    "See [catalog description][frames-desc] for summary of a United States Department of Agriculture (USDA) working document describing the wind-driven wild land fire size model proposed by [Anderson, 1983][Anderson1983a].\n",
    "\n",
    "While such a model would be simple to implement, there is not a large body of literature documenting how the spread parameters vary as a function of land cover type.\n",
    "\n",
    "[frames-desc]: https://www.frames.gov/catalog/8149\n",
    "[Anderson1983a]: https://www.frames.gov/documents/behaveplus/publications/Anderson_1983_INT-RP-305_ocr.pdf\n",
    "[Anderson1982]: https://doi.org/10.1017/s0334270000000394\n",
    "[Catchpole1992]: https://doi.org/10.1139/x92-129"
   ]
  },
  {
   "cell_type": "markdown",
   "metadata": {},
   "source": [
    "### Process-based model\n",
    "\n",
    "This is the approach taken in , and [Millington et al. 2009][Millington2009]. This approach considers on how a fire spreads from one simulation grid cell to another. Given a burning cell, each of its neighbours is assigned a wind spread weight depending on its orientation with respect to the burning cell and the wind direction. Cells downwind of burning cells have the greatest wind spread weight.\n",
    "\n",
    "<img src=\"img/perry-enright-wind-dir.png\" width=\"350px\">\n",
    "\n",
    "Fig. 1: Wind risk weights for simulation cells neighbouring a burning cell. Arrows pointing stright up give the weights for cells downwind of fire. Image taken from [Perry and Enright 2002][Perry2002a].\n",
    "\n",
    "The approach of using arbitrary/ relative weights to determine directional fire spread risk was pironeered by [Karafyllidis and \n",
    "Thanailakis, 1997][Karafyllidis1997]. In that paper the authors propose the following direction dependent wind spread weights:\n",
    "\n",
    "\n",
    "```text\n",
    "Weak       Strong\n",
    "------     ------\n",
    "↑ 1.1      ↑ 1.3 \n",
    "↗ 1.04     ↗ 1.1 \n",
    "→ 1.0      → 1.0 \n",
    "↘ 1.0      ↘ 1.0 \n",
    "↓ 0.9      ↓ 0.8 \n",
    "```\n",
    "No empirical justification is given for these choices, and the paper makes clear that the distances travelled by a fire driven by wind in this way should be thought of as having arbitrary units. \n",
    "\n",
    "On the other hand, justification for this approach of estimating risk weightings is given by the fact that [Millington et al., 2009][Millington2009] were able to produce wildfire frequency/ size statistics in a similar regime to those observed empirically using this approach.\n",
    "\n",
    "[Millington2009]: https://doi.org/10.1016/j.envsoft.2009.03.013\n",
    "[Perry2002a]: https://doi.org/10.1016/S0304-3800(02)00004-2\n",
    "[Karafyllidis1997]: https://doi.org/10.1016/S0304-3800(96)01942-4"
   ]
  },
  {
   "cell_type": "code",
   "execution_count": null,
   "metadata": {},
   "outputs": [],
   "source": [
    "import calendar\n",
    "from dataclasses import dataclass\n",
    "from datetime import date\n",
    "import logging\n",
    "import os\n",
    "from pathlib import Path\n",
    "from typing import List, Tuple\n",
    "\n",
    "from shapely.geometry import LinearRing, LineString, Point, Polygon\n",
    "\n",
    "import numpy as np\n",
    "import pandas as pd\n",
    "import geopandas as gpd\n",
    "\n",
    "import matplotlib.pyplot as plt\n",
    "%matplotlib inline\n",
    "\n",
    "from aemet_api import get_station_inventory, wind_data_for_sites\n",
    "from aemet_api.geo import aemet_stations_to_gdf, stations_near_targets\n",
    "from aemet_api.web import check_internet\n",
    "from aemet_api.wind import degrees_to_cardinal, beaufort_number"
   ]
  },
  {
   "cell_type": "markdown",
   "metadata": {},
   "source": [
    "Explicitly state inputs and primary and intermediate outputs for this notebook"
   ]
  },
  {
   "cell_type": "code",
   "execution_count": null,
   "metadata": {},
   "outputs": [],
   "source": [
    "pwd = os.getcwd().split('/')[-1]\n",
    "DATA_DIR = Path('../inputs') if pwd == 'wind' else Path('inputs')\n",
    "TMP_DIR = Path('../tmp') if pwd == 'wind' else Path('tmp')\n",
    "OUTPUT_DIR = Path('../outputs') if pwd == 'wind' else Path('outputs')\n",
    "\n",
    "INPUTS = {\n",
    "    'site_location_info': OUTPUT_DIR / 'site_location_info.csv',\n",
    "    'un_data_portugal': DATA_DIR / 'UNdata_Export_20191205_131516780.zip',\n",
    "    'internet_connection': check_internet()\n",
    "}\n",
    "\n",
    "INTERMEDIATE = {\n",
    "    'wind_download': TMP_DIR / 'wind_download.csv',\n",
    "}\n",
    "\n",
    "OUTPUTS = {\n",
    "    'wind_clean': TMP_DIR / 'wind_clean.csv',\n",
    "    'site_wind_speed_class_prob': OUTPUT_DIR / 'site_wind_speed_class_prob.csv',\n",
    "    'site_wind_dir_probs': OUTPUT_DIR / 'site_wind_dir_probs.csv',\n",
    "}"
   ]
  },
  {
   "cell_type": "markdown",
   "metadata": {},
   "source": [
    "Dates between which we will try to obtain study site data"
   ]
  },
  {
   "cell_type": "code",
   "execution_count": null,
   "metadata": {},
   "outputs": [],
   "source": [
    "START_DATE, END_DATE = date(1990, 1, 1), date(2019, 11, 1)"
   ]
  },
  {
   "cell_type": "markdown",
   "metadata": {},
   "source": [
    "## Choose weather stations to collect wind data from"
   ]
  },
  {
   "cell_type": "markdown",
   "metadata": {},
   "source": [
    "### Load study site locations from file\n",
    "\n",
    "This .csv file is produced using the [`epd-query` application](https://doi.org/10.5281/zenodo.3560683)."
   ]
  },
  {
   "cell_type": "code",
   "execution_count": null,
   "metadata": {},
   "outputs": [],
   "source": [
    "ssite_df = pd.read_csv(INPUTS['site_location_info'], sep=',')\n",
    "ssite_df.head()"
   ]
  },
  {
   "cell_type": "code",
   "execution_count": null,
   "metadata": {},
   "outputs": [],
   "source": [
    "ssite_gdf = gpd.GeoDataFrame(\n",
    "    ssite_df,\n",
    "    geometry=[Point(xy) for xy in zip(ssite_df['londd'], ssite_df['latdd'])],\n",
    "    crs={'init': 'epsg:4326'}\n",
    ").to_crs(epsg=2062)  # Madrid 1870 (Madrid) / Spain "
   ]
  },
  {
   "cell_type": "code",
   "execution_count": null,
   "metadata": {},
   "outputs": [],
   "source": [
    "ssite_gdf"
   ]
  },
  {
   "cell_type": "markdown",
   "metadata": {},
   "source": [
    "### Find all available weather stations"
   ]
  },
  {
   "cell_type": "code",
   "execution_count": null,
   "metadata": {},
   "outputs": [],
   "source": [
    "API_KEY = ('eyJhbGciOiJIUzI1NiJ9.eyJzdWIiOiJhbmRyZXcubGFuZUB'\n",
    "           'rY2wuYWMudWsiLCJqdGkiOiJhNWE3MjdhMS1hYmM0LTQzNjU'\n",
    "           'tODEwYy0xNGZlMjUyMjUxZDgiLCJpc3MiOiJBRU1FVCIsIml'\n",
    "           'hdCI6MTU3NTM4NjM5MSwidXNlcklkIjoiYTVhNzI3YTEtYWJ'\n",
    "           'jNC00MzY1LTgxMGMtMTRmZTI1MjI1MWQ4Iiwicm9sZSI6IiJ'\n",
    "           '9.b_yvT_4L8mYMyozG91-4LDkG7SP-XqO6fc96O1G7bH0')"
   ]
  },
  {
   "cell_type": "markdown",
   "metadata": {},
   "source": [
    "Download inventory of all weather stations from the AEMET API"
   ]
  },
  {
   "cell_type": "code",
   "execution_count": null,
   "metadata": {},
   "outputs": [],
   "source": [
    "station_gdf = aemet_stations_to_gdf(\n",
    "    pd.DataFrame(get_station_inventory(API_KEY))\n",
    ")"
   ]
  },
  {
   "cell_type": "code",
   "execution_count": null,
   "metadata": {},
   "outputs": [],
   "source": [
    "station_gdf.head()"
   ]
  },
  {
   "cell_type": "code",
   "execution_count": null,
   "metadata": {},
   "outputs": [],
   "source": [
    "station_gdf.plot()"
   ]
  },
  {
   "cell_type": "markdown",
   "metadata": {},
   "source": [
    "The cluster to the bottom left are the Canary Islands."
   ]
  },
  {
   "cell_type": "code",
   "execution_count": null,
   "metadata": {},
   "outputs": [],
   "source": [
    "print('Provinces in cluster to bottom left:\\n' + '\\n'.join(\n",
    "    station_gdf[station_gdf['geometry'].x < -200000]['provincia'].unique())\n",
    ")"
   ]
  },
  {
   "cell_type": "code",
   "execution_count": null,
   "metadata": {},
   "outputs": [],
   "source": [
    "station_gdf = station_gdf[\n",
    "    ~station_gdf['provincia'].isin(['LAS PALMAS', 'STA. CRUZ DE TENERIFE'])\n",
    "]"
   ]
  },
  {
   "cell_type": "code",
   "execution_count": null,
   "metadata": {},
   "outputs": [],
   "source": [
    "WORLD = gpd.read_file(gpd.datasets.get_path('naturalearth_lowres'))\n",
    "SPAIN = WORLD[WORLD['name'] == 'Spain'].to_crs(epsg=2062)  # Madrid 1870 (Madrid) / Spain\n",
    "PORTUGAL = WORLD[WORLD['name'] == 'Portugal'].to_crs(epsg=2062)"
   ]
  },
  {
   "cell_type": "code",
   "execution_count": null,
   "metadata": {},
   "outputs": [],
   "source": [
    "def plot_all_stations(axis_on: bool=False):    \n",
    "    ax = SPAIN.plot()\n",
    "    PORTUGAL.plot(ax=ax, color='w', edgecolor='k')\n",
    "    station_gdf.plot(ax=ax, color='k', markersize=18)\n",
    "    if not axis_on:\n",
    "        ax.axis('off')\n",
    "    plt.tight_layout()\n",
    "    \n",
    "plot_all_stations()"
   ]
  },
  {
   "cell_type": "markdown",
   "metadata": {},
   "source": [
    "Reference map showing the Spanish mainland with all available weather stations overlaid in black."
   ]
  },
  {
   "cell_type": "markdown",
   "metadata": {},
   "source": [
    "### Find subset of stations within 50 km of study sites"
   ]
  },
  {
   "cell_type": "code",
   "execution_count": null,
   "metadata": {},
   "outputs": [],
   "source": [
    "buffer_dist = 50000\n",
    "ssite_stations_gdf = stations_near_targets(station_gdf, ssite_gdf, max_dist=buffer_dist)\n",
    "ssite_stations_gdf.head()"
   ]
  },
  {
   "cell_type": "markdown",
   "metadata": {},
   "source": [
    "Map showing the locations of weather stations (black points) within 50 km of study sites. Note that as we are using data from the Spanish AEMET, the Portuguese site Charco da Candieira does not have any data at present. This will be handled in the section [Portugal](#portugal)"
   ]
  },
  {
   "cell_type": "code",
   "execution_count": null,
   "metadata": {},
   "outputs": [],
   "source": [
    "def plot_study_site_map():\n",
    "    ax = SPAIN.plot()\n",
    "    PORTUGAL.plot(ax=ax, color='w', edgecolor='k')\n",
    "    ssite_gdf.buffer(buffer_dist).plot(ax=ax, edgecolor='y', color='g')\n",
    "    for i, row in ssite_gdf.iterrows():\n",
    "        plt.annotate(row['sitename'], (row['geometry'].x + 1000, \n",
    "                                       row['geometry'].y + 60000))\n",
    "    ssite_stations_gdf.plot(ax=ax, color='k', markersize=18)\n",
    "    ax.axis('off')\n",
    "    plt.tight_layout()\n",
    "    \n",
    "plot_study_site_map()"
   ]
  },
  {
   "cell_type": "markdown",
   "metadata": {},
   "source": [
    "DataFrames of note:\n",
    "\n",
    "- `ssite_stations_gdf` links Spanish weather stations to study sites. Multiple stations per study site are allowed, but at this point there are no stations included for Charco da Candieira\n",
    "- `station_gdf` contains the locations of all weather stations in mainland Spain\n",
    "- `ssite_gdf` contains the locations of all study sites"
   ]
  },
  {
   "cell_type": "markdown",
   "metadata": {},
   "source": [
    "## Strategy for incorporating Portuguese site\n",
    "\n",
    "The above analysis provides wind speed data for study sites in Spanish territory, but not **Charco da Candieira** which is in Portugal's Aviero district (Anadia municipality). A search for open data characterising wind speed in Portugal was not as productive as that for Spain.\n",
    "\n",
    "### Work done to obtain Portuguese wind speed data\n",
    "\n",
    "#### Datasets used in the literature\n",
    "\n",
    "In a literature search conducted in December 2019 I searched for \"wind speed Portugal\" on Web of Science and Google Schollar. I found no results providing directions to accessible open datasets. For example, in the paper [Fonte, Silva and Quadrado (2005) *Wind Speed Prediction using Artificial Neural Networks*](https://pdfs.semanticscholar.org/ee96/63a95cee7ad75d9de0320acc6881f11dbe3d.pdf), the authors state that:\n",
    "\n",
    "> \"The data set used in this work corresponds to the hourly average values of wind during the years of 2003 and 2004 in Faro.\"\n",
    "\n",
    "but don't specify how they obtained that data. In [Rio, Esteves and Estanqueiro (2006) *Monthly Forecasts of the Average Wind Speed in Portugal*](https://www.researchgate.net/publication/259333270_Monthly_forecasts_of_the_average_wind_speed_in_Portugal) the authors state their data were obtained from the NOAA Operational Archive and Distribution System (NOMADS). However, the authors don't provide a link to the dataset, and the [NOMADS website](https://nomads.ncep.noaa.gov/) shows only data relating to the United States.\n",
    "\n",
    "#### Commercial data sources\n",
    "\n",
    "[WindStatistics](https://www.windfinder.com/windstatistics/sagres) provide commercial wind speed datasets, but these are not appropriate for research purposes as they are not accessible.\n",
    "\n",
    "#### Institutional data sources\n",
    "\n",
    "The Portuguese Institute for Sea and Atmosphere (IPMA) provide a Portuguese [climate change portal](http://portaldoclima.pt/en) which publishes temperature and precipitation data. IPMA also provide temperature and precipitation data [specific to individual weather stations](https://www.ipma.pt/en/oclima/normais.clima/1971-2000/#102). However I was unable to find any official source of wind speed data provided by the Portuguese state.\n",
    "\n",
    "The most fine grained relevant data I have been able to obtain is from a [UN data portal](http://data.un.org/Data.aspx?d=CLINO&f=ElementCode%3a16%3bCountryCode%3aPO&c=2,5,6,7,10,15,18,19,20,22,24,26,28,30,32,34,36,38,40,42,44,46&s=CountryName:asc,WmoStationNumber:asc,StatisticCode:asc&v=1) showing monthly wind speed averages in Portugal at the district level. While this is a good start it is not ideal as there is not enough information provided to infer a wind speed *distribution* (only point estimates). Additionally since Aviero district is not included it is necessary to choose a neighbouring district to use as a proxy."
   ]
  },
  {
   "cell_type": "markdown",
   "metadata": {},
   "source": [
    "### Process Portuguese wind speed data from UN data\n",
    "\n",
    "UN data was downloaded on 5th December 2019 from [this](http://data.un.org/Data.aspx?d=CLINO&f=ElementCode%3a16%3bCountryCode%3aPO&c=2,5,6,7,10,15,18,19,20,22,24,26,28,30,32,34,36,38,40,42,44,46&s=CountryName:asc,WmoStationNumber:asc,StatisticCode:asc&v=1) page. It is necessary to visit that page in a browser and click the 'download' link to obtain the data as the page uses filtering performed in the browser to generate the dataset to download. I did also attempt to use an API the UN provide for downloading the data but found the [documentation](http://data.un.org/Host.aspx?Content=API) unintelligible.\n",
    "\n",
    "Assuming the data are downloaded into the local file `DATA_DIR / UNdata_Export_20191205_131516780.zip` we view it as follows:"
   ]
  },
  {
   "cell_type": "code",
   "execution_count": null,
   "metadata": {},
   "outputs": [],
   "source": [
    "keep_cols = (['Country or Territory', 'Station Name', 'WMO Station Number',\n",
    "              'Period', 'Statistic Description', 'Unit', 'Annual']\n",
    "             + [calendar.month_abbr[x + 1] for x in range(12)])\n",
    "un_data = pd.read_csv(INPUTS['un_data_portugal'],\n",
    "                      usecols=keep_cols, sep=';')\n",
    "un_data"
   ]
  },
  {
   "cell_type": "markdown",
   "metadata": {},
   "source": [
    "Aviero has an Atlantic coast and is situated betwen Porto and Coimbra."
   ]
  },
  {
   "cell_type": "code",
   "execution_count": null,
   "metadata": {},
   "outputs": [],
   "source": [
    "candieira_wind_mean = (\n",
    "    un_data.loc[\n",
    "        un_data['Station Name'].isin(['Coimbra', 'Porto']), \n",
    "        ['Station Name', 'Annual']\n",
    "    ]\n",
    "    .set_index('Station Name')\n",
    ")"
   ]
  },
  {
   "cell_type": "code",
   "execution_count": null,
   "metadata": {},
   "outputs": [],
   "source": [
    "print(candieira_wind_mean)"
   ]
  },
  {
   "cell_type": "markdown",
   "metadata": {},
   "source": [
    "Take the measurements at Porto to be representative of the mean wind speed at Charco da Candieira"
   ]
  },
  {
   "cell_type": "code",
   "execution_count": null,
   "metadata": {},
   "outputs": [],
   "source": [
    "cdc_mean_wind_speed, = candieira_wind_mean.loc['Porto'].values"
   ]
  },
  {
   "cell_type": "markdown",
   "metadata": {},
   "source": [
    "We now look to find a region along the Spanish Atlantic coast in which all points are a similar distance from the Atlantic coast as Charco da Candieira. We will then select a weather station within this region which has the closest average wind speed to `cdc_mean_wind_speed` to represent Charco da Candieira (in lieu of wind speed distribution data in Portugal). \n",
    "\n",
    "Steps to identify candidate stations to represent Charco da Candieira:\n",
    "\n",
    "1. Measure distance between the site point and the Atlantic coast\n",
    "2. Find the line comprising the points on the peninsular which are this distance from the Atlantic coast\n",
    "3. Create a 50 km^2 buffer around this line to mimic the search area around Spanish study sites\n",
    "4. Identify a site search area by finding the intersection between the buffered Atlantic coast distance line and Spain\n",
    "5. Obtain a listing of all Spanish weather stations within this search area"
   ]
  },
  {
   "cell_type": "code",
   "execution_count": null,
   "metadata": {},
   "outputs": [],
   "source": [
    "def closest_point_on_poly_to_point(poly: Polygon, pt: Point) -> Point:\n",
    "    \"\"\"Find the closest point on a polygon to another point.\n",
    "    \n",
    "    Implementation lifted from this `SO answer`.\n",
    "    \n",
    "    _`SO answer`: https://stackoverflow.com/questions/33311616\n",
    "    \"\"\"\n",
    "    pol_ext = LinearRing(poly.exterior.coords)\n",
    "    dist = pol_ext.project(pt)\n",
    "    nearest_p = pol_ext.interpolate(dist)\n",
    "    return nearest_p"
   ]
  },
  {
   "cell_type": "markdown",
   "metadata": {},
   "source": [
    "Isolate Shapely objects representing i. the point where Charco da Candieira is located, and ii. a polygon representing the whole of Iberia. "
   ]
  },
  {
   "cell_type": "code",
   "execution_count": null,
   "metadata": {},
   "outputs": [],
   "source": [
    "cdc_pt = (\n",
    "    ssite_gdf[ssite_gdf['sitename'] == 'Charco da Candieira']['geometry']\n",
    "    .values[0]\n",
    ")\n",
    "iberia_poly = (\n",
    "    pd.concat([SPAIN, PORTUGAL]).dissolve(by='continent')['geometry']\n",
    "    .values[0]\n",
    ")"
   ]
  },
  {
   "cell_type": "code",
   "execution_count": null,
   "metadata": {},
   "outputs": [],
   "source": [
    "iberia_gdf = gpd.GeoDataFrame([('iberia', iberia_poly)],\n",
    "                              columns=['desc', 'geometry'])\n",
    "closest_pt = closest_point_on_poly_to_point(iberia_poly, cdc_pt)\n",
    "points_gdf = gpd.GeoDataFrame([('site', cdc_pt),('close_point', closest_pt)],\n",
    "                              columns=['desc', 'geometry'])"
   ]
  },
  {
   "cell_type": "code",
   "execution_count": null,
   "metadata": {},
   "outputs": [],
   "source": [
    "base = iberia_gdf.plot()\n",
    "points_gdf.plot(ax=base, color='r')"
   ]
  },
  {
   "cell_type": "code",
   "execution_count": null,
   "metadata": {},
   "outputs": [],
   "source": [
    "dist_to_atl = cdc_pt.distance(closest_pt)\n",
    "atl_corridor = iberia_gdf.intersection(iberia_gdf.boundary.buffer(dist_to_atl))\n",
    "base = atl_corridor.plot()\n",
    "points_gdf.plot(ax=base, color='r')\n",
    "#PORTUGAL.plot(ax=base)"
   ]
  },
  {
   "cell_type": "markdown",
   "metadata": {},
   "source": [
    "Use a rectangular bounding box to trim sections not on the atlantic coast"
   ]
  },
  {
   "cell_type": "code",
   "execution_count": null,
   "metadata": {},
   "outputs": [],
   "source": [
    "top, bottom, left, right = 1000000, 180000, 85000, 290000\n",
    "atl_corridor = (\n",
    "    gpd.GeoSeries(Polygon([(left, top), (right, top),\n",
    "                           (right, bottom), (left, bottom)]))\n",
    "    .intersection(atl_corridor)\n",
    ")"
   ]
  },
  {
   "cell_type": "code",
   "execution_count": null,
   "metadata": {},
   "outputs": [],
   "source": [
    "base = atl_corridor.plot()\n",
    "points_gdf.plot(ax=base, color='r')"
   ]
  },
  {
   "cell_type": "code",
   "execution_count": null,
   "metadata": {},
   "outputs": [],
   "source": [
    "atl_corridor_points = [\n",
    "    Point(x[0], x[1]) for x in atl_corridor.boundary.values[0].coords\n",
    "]"
   ]
  },
  {
   "cell_type": "code",
   "execution_count": null,
   "metadata": {},
   "outputs": [],
   "source": [
    "fig, ax = plt.subplots(figsize=(7, 12))\n",
    "xs, ys = zip(*[(pt.x, pt.y) for pt in atl_corridor_points])\n",
    "plt.scatter(xs, ys)\n",
    "for i in range(len(atl_corridor_points)):\n",
    "    plt.annotate(i, (xs[i] + 1000, ys[i] + 100))"
   ]
  },
  {
   "cell_type": "markdown",
   "metadata": {},
   "source": [
    "Referring to the above plot of `atl_corridor`, the line which defines the set of points the same distance from the Atlantic coast as Charco da Candieira is given by the numbered points 1 - 25 excluding the kink at point 2."
   ]
  },
  {
   "cell_type": "code",
   "execution_count": null,
   "metadata": {},
   "outputs": [],
   "source": [
    "dist_from_coast_line = LineString(\n",
    "    [pt for i, pt in enumerate(atl_corridor_points) \n",
    "     if (i <= 25) and (i != 2) and (i > 0)]\n",
    ")\n",
    "dist_from_coast_gdf = gpd.GeoDataFrame([('dist_from_coast', dist_from_coast_line)],\n",
    "                                       columns=['desc', 'geometry'])"
   ]
  },
  {
   "cell_type": "markdown",
   "metadata": {},
   "source": [
    "Buffer the distance from coast to search the area within 50 km of the line"
   ]
  },
  {
   "cell_type": "code",
   "execution_count": null,
   "metadata": {},
   "outputs": [],
   "source": [
    "dist_from_coast_area_gdf = dist_from_coast_gdf.buffer(50000)"
   ]
  },
  {
   "cell_type": "code",
   "execution_count": null,
   "metadata": {},
   "outputs": [],
   "source": [
    "base = iberia_gdf.plot(color='w', edgecolor='k')\n",
    "dist_from_coast_gdf.plot(ax=base, color='r')\n",
    "dist_from_coast_area_gdf.plot(ax=base, color='g', edgecolor='y')"
   ]
  },
  {
   "cell_type": "markdown",
   "metadata": {},
   "source": [
    "The red line shows the points the same distance from Atlantic coast as Charco da Candieira. The green buffer zone extends 50 km in all directions from the distance from Atlantic coast line."
   ]
  },
  {
   "cell_type": "markdown",
   "metadata": {},
   "source": [
    "Find intersection between distance from coast spacer area and Spain"
   ]
  },
  {
   "cell_type": "code",
   "execution_count": null,
   "metadata": {},
   "outputs": [],
   "source": [
    "cdc_search_area = gpd.GeoDataFrame([\n",
    "    ('cdc_search_area',\n",
    "     SPAIN.iloc[0]['geometry']\n",
    "     .intersection(dist_from_coast_area_gdf.values[0])[2])\n",
    "], columns=['desc', 'geometry'], crs={'init': 'epsg:2062'})"
   ]
  },
  {
   "cell_type": "code",
   "execution_count": null,
   "metadata": {},
   "outputs": [],
   "source": [
    "base = SPAIN.plot()\n",
    "cdc_search_area.plot(ax=base, color='r')\n",
    "(ssite_gdf[ssite_gdf['sitename'] == 'Charco da Candieira'].to_crs(epsg=2062)\n",
    " .buffer(50000).plot(ax=base, edgecolor='y', color='g'))"
   ]
  },
  {
   "cell_type": "markdown",
   "metadata": {},
   "source": [
    "The red marker on the above map shows the area which is both i. within the Atlantic coast selection zone, and ii. within Spain.\n",
    "\n",
    "We now identify weather stations within this search area"
   ]
  },
  {
   "cell_type": "code",
   "execution_count": null,
   "metadata": {},
   "outputs": [],
   "source": [
    "cdc_candidate_sites = gpd.sjoin(station_gdf, cdc_search_area, how='inner', op='within') "
   ]
  },
  {
   "cell_type": "code",
   "execution_count": null,
   "metadata": {},
   "outputs": [],
   "source": [
    "base = SPAIN.plot()\n",
    "cdc_search_area.plot(ax=base, color='r')\n",
    "(ssite_gdf[ssite_gdf['sitename'] == 'Charco da Candieira'].to_crs(epsg=2062)\n",
    " .buffer(50000).plot(ax=base, edgecolor='y', color='g'))\n",
    "cdc_candidate_sites.plot(ax=base, color='k')"
   ]
  },
  {
   "cell_type": "code",
   "execution_count": null,
   "metadata": {},
   "outputs": [],
   "source": [
    "cdc_candidate_sites"
   ]
  },
  {
   "cell_type": "markdown",
   "metadata": {},
   "source": [
    "Download wind speed and direction data for candidate Portuguese sites"
   ]
  },
  {
   "cell_type": "code",
   "execution_count": null,
   "metadata": {},
   "outputs": [],
   "source": [
    "cdc_station_wind_data = wind_data_for_sites(\n",
    "    START_DATE,\n",
    "    END_DATE,\n",
    "    cdc_candidate_sites['indicativo'].unique(),\n",
    "    API_KEY\n",
    ")"
   ]
  },
  {
   "cell_type": "code",
   "execution_count": null,
   "metadata": {},
   "outputs": [],
   "source": [
    "cdc_station_comparison_df = (\n",
    "    cdc_station_wind_data\n",
    "    .groupby(by='station_id')['ave_wind_speed']\n",
    "    .agg(['count', 'mean'])\n",
    "    .assign(cdc_mean_abs_diff=lambda df: (df['mean'] - cdc_mean_wind_speed).abs())\n",
    "    .sort_values(by='cdc_mean_abs_diff')\n",
    ")\n",
    "\n",
    "assert cdc_station_comparison_df.iloc[0].name == '1428'\n",
    "cdc_station_comparison_df"
   ]
  },
  {
   "cell_type": "markdown",
   "metadata": {},
   "source": [
    "We see that station `1428` has the smallest average difference in average wind speed with respect to the average wind speed in Porto as reported by the UN. We select this site to represent Charco da Candieira's wind speed distribution"
   ]
  },
  {
   "cell_type": "code",
   "execution_count": null,
   "metadata": {},
   "outputs": [],
   "source": [
    "cdc_site_id = '1428'"
   ]
  },
  {
   "cell_type": "code",
   "execution_count": null,
   "metadata": {},
   "outputs": [],
   "source": [
    "portugal_ssite_station_wind_data = (\n",
    "    cdc_station_wind_data\n",
    "    .assign(date=lambda df: pd.to_datetime(df['date']))\n",
    "    .set_index(['station_id', 'date'])\n",
    "    .loc[pd.IndexSlice[cdc_site_id, :], :]\n",
    ")"
   ]
  },
  {
   "cell_type": "code",
   "execution_count": null,
   "metadata": {},
   "outputs": [],
   "source": [
    "portugal_ssite_station_wind_data"
   ]
  },
  {
   "cell_type": "code",
   "execution_count": null,
   "metadata": {},
   "outputs": [],
   "source": [
    "portugal_ssite_station = pd.concat([\n",
    "    ssite_gdf[ssite_gdf['sitename'] == 'Charco da Candieira']\n",
    "    .iloc[0].drop('geometry'), # keep location from station not study site\n",
    "    cdc_candidate_sites[\n",
    "        cdc_candidate_sites['indicativo'] == cdc_site_id\n",
    "    ].iloc[0]\n",
    "]).to_frame().T[ssite_stations_gdf.columns]"
   ]
  },
  {
   "cell_type": "markdown",
   "metadata": {},
   "source": [
    "Add selected station representing the Portuguese study site to the DataFrame linking weather stations to study sites"
   ]
  },
  {
   "cell_type": "code",
   "execution_count": null,
   "metadata": {},
   "outputs": [],
   "source": [
    "ssite_stations_gdf = pd.concat([ssite_stations_gdf, portugal_ssite_station]).reset_index(drop=True)"
   ]
  },
  {
   "cell_type": "markdown",
   "metadata": {},
   "source": [
    "## Download wind speed and direction data for Spanish sites within 50 km of study sites"
   ]
  },
  {
   "cell_type": "code",
   "execution_count": null,
   "metadata": {},
   "outputs": [],
   "source": [
    "ssite_station_wind_data = wind_data_for_sites(\n",
    "    START_DATE,\n",
    "    END_DATE,\n",
    "    # exclude Portuguese site from query to avoid re-downloading data\n",
    "    ssite_stations_gdf[\n",
    "        ssite_stations_gdf['indicativo'] != cdc_site_id\n",
    "    ]['indicativo'].unique(),\n",
    "    API_KEY\n",
    ")"
   ]
  },
  {
   "cell_type": "markdown",
   "metadata": {},
   "source": [
    "Join with previously downloaded data representing Portuguese site"
   ]
  },
  {
   "cell_type": "code",
   "execution_count": null,
   "metadata": {},
   "outputs": [],
   "source": [
    "ssite_station_wind_data = (\n",
    "    pd.concat(\n",
    "        [ssite_station_wind_data,\n",
    "         portugal_ssite_station_wind_data.reset_index()],\n",
    "        sort=True\n",
    "    )\n",
    "    .assign(date=lambda df: pd.to_datetime(df['date']))\n",
    "    .set_index(['station_id', 'date'])\n",
    ")   "
   ]
  },
  {
   "cell_type": "code",
   "execution_count": null,
   "metadata": {},
   "outputs": [],
   "source": [
    "ssite_station_wind_data"
   ]
  },
  {
   "cell_type": "code",
   "execution_count": null,
   "metadata": {},
   "outputs": [],
   "source": [
    "ssite_station_wind_data.to_csv(INTERMEDIATE['wind_download'])"
   ]
  },
  {
   "cell_type": "markdown",
   "metadata": {},
   "source": [
    "## Clean wind speed and direction data"
   ]
  },
  {
   "cell_type": "code",
   "execution_count": null,
   "metadata": {},
   "outputs": [],
   "source": [
    "try:\n",
    "    ssite_station_wind_data\n",
    "except NameError:\n",
    "    ssite_station_wind_data = (\n",
    "    pd.read_csv(INTERMEDIATE['wind_download'])\n",
    "    .assign(date=lambda df: pd.to_datetime(df['date']))\n",
    "    .set_index(['station_id', 'date'])\n",
    ")"
   ]
  },
  {
   "cell_type": "code",
   "execution_count": null,
   "metadata": {},
   "outputs": [],
   "source": [
    "ssite_station_wind_data"
   ]
  },
  {
   "cell_type": "code",
   "execution_count": null,
   "metadata": {},
   "outputs": [],
   "source": [
    "ssite_station_wind_data.dtypes"
   ]
  },
  {
   "cell_type": "code",
   "execution_count": null,
   "metadata": {},
   "outputs": [],
   "source": [
    "ssite_station_wind_data.loc['6302A']['ave_wind_speed'].rolling(7).mean().plot()"
   ]
  },
  {
   "cell_type": "markdown",
   "metadata": {},
   "source": [
    "Plot of average wind speed for station 6302A (near the San Rafael site). Note the seasonal periodicity in wind speed."
   ]
  },
  {
   "cell_type": "markdown",
   "metadata": {},
   "source": [
    "### Check for sites missing wind speed data"
   ]
  },
  {
   "cell_type": "code",
   "execution_count": null,
   "metadata": {},
   "outputs": [],
   "source": [
    "ssites_with_observation_counts = (\n",
    "    pd.merge(\n",
    "        ssite_stations_gdf,\n",
    "        (ssite_station_wind_data['ave_wind_speed'].dropna()\n",
    "         .groupby(level='station_id').count()\n",
    "         .rename('n_observations')\n",
    "         .to_frame().reset_index()),\n",
    "        how='left', left_on='indicativo', right_on='station_id'\n",
    "    )\n",
    "    .loc[\n",
    "        :, ['sitename', 'provincia', 'nombre', 'indicativo', 'n_observations']\n",
    "    ]\n",
    ")"
   ]
  },
  {
   "cell_type": "markdown",
   "metadata": {},
   "source": [
    "We see that only San Rafael an Monte Areo mire have stations missing data. Also the Algendar station at Menorca Airport has over 10,000 observations 👍"
   ]
  },
  {
   "cell_type": "code",
   "execution_count": null,
   "metadata": {},
   "outputs": [],
   "source": [
    "ssites_with_observation_counts"
   ]
  },
  {
   "cell_type": "markdown",
   "metadata": {},
   "source": [
    "Summarise count of observations by study site"
   ]
  },
  {
   "cell_type": "code",
   "execution_count": null,
   "metadata": {},
   "outputs": [],
   "source": [
    "ssites_with_observation_counts.groupby(by=['sitename'])['n_observations'].sum().astype(int)"
   ]
  },
  {
   "cell_type": "markdown",
   "metadata": {},
   "source": [
    "### "
   ]
  },
  {
   "cell_type": "code",
   "execution_count": null,
   "metadata": {},
   "outputs": [],
   "source": [
    "ssite_stations_gdf.loc[:, ['indicativo', 'sitename']].head()"
   ]
  },
  {
   "cell_type": "markdown",
   "metadata": {},
   "source": [
    "### Ensure time index is continuous"
   ]
  },
  {
   "cell_type": "code",
   "execution_count": null,
   "metadata": {},
   "outputs": [],
   "source": [
    "tmp = (\n",
    "    ssite_station_wind_data.swaplevel().unstack().sort_index()\n",
    "    .pipe(lambda df: df.reindex(\n",
    "        pd.date_range(df.iloc[0].name, df.iloc[-1].name)\n",
    "    ))\n",
    "    .rename_axis('date')\n",
    "    .stack().swaplevel().sort_index()\n",
    ")\n",
    "\n",
    "assert len(tmp.index) >= len(ssite_station_wind_data.dropna(how='all').index), (\n",
    "    'Expect more rows when ensuring time index continuous, not fewer.'\n",
    ")\n",
    "ssite_station_wind_data = tmp"
   ]
  },
  {
   "cell_type": "code",
   "execution_count": null,
   "metadata": {},
   "outputs": [],
   "source": [
    "ssite_station_wind_data"
   ]
  },
  {
   "cell_type": "markdown",
   "metadata": {},
   "source": [
    "Add study site name to index for each combination of station and date"
   ]
  },
  {
   "cell_type": "code",
   "execution_count": null,
   "metadata": {},
   "outputs": [],
   "source": [
    "# Like ssite_station_wind_data but index is site, station and date, not station and date\n",
    "ssite_wind_data = (\n",
    "    pd.merge(\n",
    "        ssite_station_wind_data.reset_index(),\n",
    "        ssite_stations_gdf.loc[:, ['indicativo', 'sitename']],\n",
    "        how='left',\n",
    "        left_on='station_id',\n",
    "        right_on='indicativo',\n",
    "    )\n",
    "    .drop(columns=['indicativo'])\n",
    "    .set_index(['sitename', 'station_id', 'date'])\n",
    "    .sort_index()\n",
    "    .dropna()\n",
    ")    "
   ]
  },
  {
   "cell_type": "code",
   "execution_count": null,
   "metadata": {},
   "outputs": [],
   "source": [
    "ssite_wind_data"
   ]
  },
  {
   "cell_type": "code",
   "execution_count": null,
   "metadata": {},
   "outputs": [],
   "source": [
    "sites = ssite_wind_data.index.levels[0].values\n",
    "fig, axes = plt.subplots(nrows=2, ncols=3, figsize=(12, 7), sharex=True, sharey=True)\n",
    "for i, ax in enumerate(axes.flat):\n",
    "    if i < 6:\n",
    "        # Create room for 6 plots but only make 5\n",
    "        ax.hist(ssite_wind_data.loc[sites[i], 'ave_wind_speed'], density=True)\n",
    "        ax.set_title(sites[i])\n",
    "        ax.set_xlim([0, 25])\n",
    "    else:\n",
    "        ax.axis('off')\n",
    "plt.tight_layout()"
   ]
  },
  {
   "cell_type": "markdown",
   "metadata": {},
   "source": [
    "Histograms of daily average wind speed across all stations for each site"
   ]
  },
  {
   "cell_type": "markdown",
   "metadata": {},
   "source": [
    "### Clean wind direction data"
   ]
  },
  {
   "cell_type": "code",
   "execution_count": null,
   "metadata": {},
   "outputs": [],
   "source": [
    "test_dir = ssite_wind_data.loc[pd.IndexSlice[:, '6293X'], 'direction']\n",
    "test_dir.hist()"
   ]
  },
  {
   "cell_type": "code",
   "execution_count": null,
   "metadata": {},
   "outputs": [],
   "source": [
    "test_dir.reset_index(level=[0, 1], drop=True).plot()"
   ]
  },
  {
   "cell_type": "markdown",
   "metadata": {},
   "source": [
    "It looks very much like the values greater than 36 (indicating 360 degrees) are erroneous. Let's remove them:"
   ]
  },
  {
   "cell_type": "code",
   "execution_count": null,
   "metadata": {},
   "outputs": [],
   "source": [
    "test_dir.loc[test_dir > 40] = np.nan"
   ]
  },
  {
   "cell_type": "code",
   "execution_count": null,
   "metadata": {},
   "outputs": [],
   "source": [
    "assert test_dir.max() <= 36"
   ]
  },
  {
   "cell_type": "code",
   "execution_count": null,
   "metadata": {},
   "outputs": [],
   "source": [
    "test_dir.hist()"
   ]
  },
  {
   "cell_type": "code",
   "execution_count": null,
   "metadata": {},
   "outputs": [],
   "source": [
    "test_dir.reset_index(level=[0, 1], drop=True).plot()"
   ]
  },
  {
   "cell_type": "markdown",
   "metadata": {},
   "source": [
    "This looks much more sensible. Apply this logic to the whole dataframe"
   ]
  },
  {
   "cell_type": "code",
   "execution_count": null,
   "metadata": {},
   "outputs": [],
   "source": [
    "ssite_wind_data.loc[ssite_wind_data['direction'] > 40, 'direction'] = np.nan"
   ]
  },
  {
   "cell_type": "code",
   "execution_count": null,
   "metadata": {},
   "outputs": [],
   "source": [
    "ssite_wind_data['direction'].hist()"
   ]
  },
  {
   "cell_type": "markdown",
   "metadata": {},
   "source": [
    "The API data has units 'tens of degrees', i.e. a value of 22 indicates a maximum wind gust of 220° clockwise from north. Convert these values to cardinal directions."
   ]
  },
  {
   "cell_type": "code",
   "execution_count": null,
   "metadata": {},
   "outputs": [],
   "source": [
    "ssite_wind_data['direction'] = (\n",
    "    ssite_wind_data['direction']\n",
    "    .apply(lambda x: degrees_to_cardinal(x * 10))\n",
    ")"
   ]
  },
  {
   "cell_type": "code",
   "execution_count": null,
   "metadata": {},
   "outputs": [],
   "source": [
    "ssite_wind_data.head()"
   ]
  },
  {
   "cell_type": "code",
   "execution_count": null,
   "metadata": {},
   "outputs": [],
   "source": [
    "ssite_wind_data.to_csv(OUTPUTS['wind_clean'])"
   ]
  },
  {
   "cell_type": "markdown",
   "metadata": {},
   "source": [
    "## Classify wind speed according to Beaufort No.\n",
    "\n",
    "See [here][BeaufortDesc] for reference for Beaufort numbers.\n",
    "\n",
    "We classify wind speed observations according to Beaufort numbers. Classify (with reference to wind spread weight from Perry and Enright, 2002) Beaufort numbers as high/ medium/ low wind speeds as follows:\n",
    "\n",
    "- Low wind = Beaufort No. 0-2\n",
    "- Med wind = Beaufort No. 3-5\n",
    "- High wind = Beaufort No. >= 6\n",
    "\n",
    "This is done because neither Perry and Enright, 2002, or Karafyllidis and Thanailakis, 1997 specify the wind speed ranges to which their low/ medium/ high fire spread risk classifications apply.\n",
    "\n",
    "[BeaufortDesc]: https://www.engineeringtoolbox.com/beaufort-wind-scale-d_184.html"
   ]
  },
  {
   "cell_type": "code",
   "execution_count": null,
   "metadata": {},
   "outputs": [],
   "source": [
    "pd.read_csv(OUTPUTS['wind_clean'])"
   ]
  },
  {
   "cell_type": "code",
   "execution_count": null,
   "metadata": {},
   "outputs": [],
   "source": [
    "try:\n",
    "    ssite_wind_data\n",
    "except NameError:\n",
    "    ssite_wind_data = (\n",
    "        pd.read_csv(OUTPUTS['wind_clean'])\n",
    "        .assign(date=lambda df: pd.to_datetime(df['date']))\n",
    "        .set_index(['sitename', 'station_id', 'date'])\n",
    "    )   "
   ]
  },
  {
   "cell_type": "code",
   "execution_count": null,
   "metadata": {},
   "outputs": [],
   "source": [
    "ssite_wind_data['beaufort_no'] = (\n",
    "    ssite_wind_data['ave_wind_speed'].transform(beaufort_number)\n",
    ")"
   ]
  },
  {
   "cell_type": "code",
   "execution_count": null,
   "metadata": {},
   "outputs": [],
   "source": [
    "ssite_wind_data"
   ]
  },
  {
   "cell_type": "markdown",
   "metadata": {},
   "source": [
    "Classify beaufort numbers as low/ med/ high wind"
   ]
  },
  {
   "cell_type": "code",
   "execution_count": null,
   "metadata": {},
   "outputs": [],
   "source": [
    "def beaufort_to_class(beaufort_no: int) -> str:\n",
    "    \"\"\"Classify Beaufort number as low/ medium/ high wind\"\"\"\n",
    "    if beaufort_no <= 2:\n",
    "        return 'low'\n",
    "    elif beaufort_no <= 5:\n",
    "        return 'medium'\n",
    "    return 'high'\n",
    "\n",
    "\n",
    "def test_beaufort_to_class():\n",
    "    assert beaufort_to_class(2) == 'low'\n",
    "    assert beaufort_to_class(3) == 'medium'\n",
    "    assert beaufort_to_class(5) == 'medium'\n",
    "    assert beaufort_to_class(12) == 'high'\n",
    "    \n",
    "test_beaufort_to_class()"
   ]
  },
  {
   "cell_type": "code",
   "execution_count": null,
   "metadata": {},
   "outputs": [],
   "source": [
    "ssite_wind_data['wind_speed_class'] = (\n",
    "    ssite_wind_data['beaufort_no'].transform(beaufort_to_class)\n",
    ")"
   ]
  },
  {
   "cell_type": "code",
   "execution_count": null,
   "metadata": {},
   "outputs": [],
   "source": [
    "ssite_wind_data.head()"
   ]
  },
  {
   "cell_type": "code",
   "execution_count": null,
   "metadata": {},
   "outputs": [],
   "source": [
    "wind_speed_class_prob = (\n",
    "    ssite_wind_data['wind_speed_class']\n",
    "    .groupby(level='sitename').value_counts()\n",
    "    .unstack().replace(np.nan, 0)\n",
    "    .pipe(lambda df: df.divide(df.sum(1), axis=0))\n",
    "    .loc[:, ['low', 'medium', 'high']]\n",
    ")\n",
    "\n",
    "wind_speed_class_prob"
   ]
  },
  {
   "cell_type": "code",
   "execution_count": null,
   "metadata": {},
   "outputs": [],
   "source": [
    "wind_speed_class_prob.to_csv(OUTPUTS['site_wind_speed_class_prob'])"
   ]
  },
  {
   "cell_type": "code",
   "execution_count": null,
   "metadata": {},
   "outputs": [],
   "source": [
    "fig, axes = plt.subplots(nrows=2, ncols=3, figsize=(12, 7))\n",
    "for i, ax in enumerate(axes.flat):\n",
    "    if i < 6:\n",
    "        # Create room for 6 plots but only make 5\n",
    "        data = wind_speed_class_prob.iloc[i]\n",
    "        ax.bar(np.arange(3), data.values, tick_label=data.index)\n",
    "        ax.set_title(data.name)\n",
    "        ax.set_ylim([0, 1])\n",
    "    else:\n",
    "        ax.axis('off')\n",
    "plt.tight_layout()"
   ]
  },
  {
   "cell_type": "markdown",
   "metadata": {},
   "source": [
    "Probability of the wind speed being low, medium or high on any given day at each of the Spanish study sites."
   ]
  },
  {
   "cell_type": "markdown",
   "metadata": {},
   "source": [
    "## Get wind direction probabilities for sites"
   ]
  },
  {
   "cell_type": "code",
   "execution_count": null,
   "metadata": {},
   "outputs": [],
   "source": [
    "wind_dir_probs = (\n",
    "    ssite_wind_data['direction'].groupby(by='sitename').value_counts()\n",
    "    .rename('num_obs_with_dir').reset_index('direction')\n",
    "    .join(\n",
    "        ssite_wind_data['direction'].groupby(level='sitename').count()\n",
    "        .rename('total_num_obs')\n",
    "    )\n",
    "    .assign(dir_prob=lambda df: df['num_obs_with_dir'] / df['total_num_obs'])\n",
    "    .set_index('direction', append=True)\n",
    "    .loc[:, 'dir_prob']\n",
    "    .sort_index()\n",
    "    .swaplevel().unstack()\n",
    "    .reindex(['N', 'NE', 'E', 'SE', 'S', 'SW', 'W', 'NW'])\n",
    "    .rename_axis('direction')\n",
    "    .T\n",
    ")\n",
    "wind_dir_probs.to_csv(OUTPUTS['site_wind_dir_probs'])"
   ]
  },
  {
   "cell_type": "code",
   "execution_count": null,
   "metadata": {},
   "outputs": [],
   "source": [
    "wind_dir_probs"
   ]
  },
  {
   "cell_type": "code",
   "execution_count": null,
   "metadata": {},
   "outputs": [],
   "source": [
    "fig, axes = plt.subplots(ncols=3, nrows=2, figsize=(12, 7), sharex=True, sharey=True)\n",
    "for i, ax in enumerate(axes.flat):\n",
    "    if i < len(wind_dir_probs.index):\n",
    "        ax.bar(x=np.arange(8), height=wind_dir_probs.iloc[i], tick_label=wind_dir_probs.columns)\n",
    "        ax.set_title(wind_dir_probs.iloc[i].name)\n",
    "    else:\n",
    "        ax.axis('off')    \n",
    "plt.tight_layout()"
   ]
  },
  {
   "cell_type": "markdown",
   "metadata": {},
   "source": [
    "Wind direction probabilities for all study sites. These were obtained by counting the number of times the day's maximum gust was in each cardinal direction for each weather station, and normalising by the total number of observations for each study site."
   ]
  },
  {
   "cell_type": "markdown",
   "metadata": {},
   "source": [
    "## Cleanup\n",
    "\n",
    "Delete intermediate files"
   ]
  },
  {
   "cell_type": "code",
   "execution_count": null,
   "metadata": {},
   "outputs": [],
   "source": [
    "for f in INTERMEDIATE.values():\n",
    "    try:\n",
    "        os.remove(f)\n",
    "    except FileNotFoundError:\n",
    "        logging.warning(f'Tried to delete {f} but could not find file')"
   ]
  }
 ],
 "metadata": {
  "kernelspec": {
   "display_name": "Python 3",
   "language": "python",
   "name": "python3"
  },
  "language_info": {
   "codemirror_mode": {
    "name": "ipython",
    "version": 3
   },
   "file_extension": ".py",
   "mimetype": "text/x-python",
   "name": "python",
   "nbconvert_exporter": "python",
   "pygments_lexer": "ipython3",
   "version": "3.7.6"
  }
 },
 "nbformat": 4,
 "nbformat_minor": 4
}
